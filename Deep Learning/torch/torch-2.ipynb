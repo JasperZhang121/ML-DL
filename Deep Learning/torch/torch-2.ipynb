{
 "cells": [
  {
   "cell_type": "markdown",
   "id": "f1bb16a4",
   "metadata": {},
   "source": [
    "## Gradient"
   ]
  },
  {
   "cell_type": "code",
   "execution_count": 1,
   "id": "2de066aa",
   "metadata": {},
   "outputs": [],
   "source": [
    "import torch"
   ]
  },
  {
   "cell_type": "code",
   "execution_count": 2,
   "id": "7c1164d6",
   "metadata": {},
   "outputs": [
    {
     "data": {
      "text/plain": [
       "tensor([[-0.7447,  0.7443, -0.3827,  1.8956],\n",
       "        [-0.6521, -1.6380, -0.2594,  0.3422],\n",
       "        [ 0.4002,  0.5529, -0.3605,  1.6759]], requires_grad=True)"
      ]
     },
     "execution_count": 2,
     "metadata": {},
     "output_type": "execute_result"
    }
   ],
   "source": [
    "x = torch.randn(3,4,requires_grad=True)\n",
    "x"
   ]
  },
  {
   "cell_type": "code",
   "execution_count": 3,
   "id": "3a18c512",
   "metadata": {},
   "outputs": [
    {
     "data": {
      "text/plain": [
       "tensor([[ 0.9897,  1.2783,  1.1202,  0.8872],\n",
       "        [-0.8363,  2.3575, -3.9925, -1.2781],\n",
       "        [-1.4624, -0.4510, -0.8345,  0.7075]], requires_grad=True)"
      ]
     },
     "execution_count": 3,
     "metadata": {},
     "output_type": "execute_result"
    }
   ],
   "source": [
    "b = torch.randn(3,4,requires_grad=True)\n",
    "b"
   ]
  },
  {
   "cell_type": "code",
   "execution_count": 4,
   "id": "e84938aa",
   "metadata": {},
   "outputs": [],
   "source": [
    "t = x+b"
   ]
  },
  {
   "cell_type": "code",
   "execution_count": 5,
   "id": "88facc70",
   "metadata": {},
   "outputs": [
    {
     "data": {
      "text/plain": [
       "tensor(0.0591, grad_fn=<SumBackward0>)"
      ]
     },
     "execution_count": 5,
     "metadata": {},
     "output_type": "execute_result"
    }
   ],
   "source": [
    "y = t.sum()\n",
    "y"
   ]
  },
  {
   "cell_type": "code",
   "execution_count": 6,
   "id": "5b7b0938",
   "metadata": {},
   "outputs": [],
   "source": [
    "y.backward()"
   ]
  },
  {
   "cell_type": "code",
   "execution_count": 7,
   "id": "191544cf",
   "metadata": {},
   "outputs": [
    {
     "data": {
      "text/plain": [
       "tensor([[1., 1., 1., 1.],\n",
       "        [1., 1., 1., 1.],\n",
       "        [1., 1., 1., 1.]])"
      ]
     },
     "execution_count": 7,
     "metadata": {},
     "output_type": "execute_result"
    }
   ],
   "source": [
    "b.grad"
   ]
  },
  {
   "cell_type": "code",
   "execution_count": 8,
   "id": "e84e78f4",
   "metadata": {},
   "outputs": [
    {
     "data": {
      "text/plain": [
       "True"
      ]
     },
     "execution_count": 8,
     "metadata": {},
     "output_type": "execute_result"
    }
   ],
   "source": [
    "t.requires_grad"
   ]
  },
  {
   "cell_type": "markdown",
   "id": "5dc87f26",
   "metadata": {},
   "source": [
    "### Cal"
   ]
  },
  {
   "cell_type": "code",
   "execution_count": 9,
   "id": "31768daa",
   "metadata": {},
   "outputs": [],
   "source": [
    "x = torch.rand(1)\n",
    "b = torch.rand(1,requires_grad = True)\n",
    "w = torch.rand(1,requires_grad = True)\n",
    "y = w * x\n",
    "z = y + b"
   ]
  },
  {
   "cell_type": "code",
   "execution_count": 10,
   "id": "272700d5",
   "metadata": {},
   "outputs": [
    {
     "data": {
      "text/plain": [
       "(True, True, True, False, False)"
      ]
     },
     "execution_count": 10,
     "metadata": {},
     "output_type": "execute_result"
    }
   ],
   "source": [
    "x.is_leaf, w.is_leaf, b.is_leaf, y.is_leaf, z.is_leaf "
   ]
  },
  {
   "cell_type": "code",
   "execution_count": 11,
   "id": "c360e99c",
   "metadata": {},
   "outputs": [],
   "source": [
    "z.backward(retain_graph=True)"
   ]
  },
  {
   "cell_type": "code",
   "execution_count": 12,
   "id": "32ca4bc9",
   "metadata": {},
   "outputs": [
    {
     "data": {
      "text/plain": [
       "tensor([0.1849])"
      ]
     },
     "execution_count": 12,
     "metadata": {},
     "output_type": "execute_result"
    }
   ],
   "source": [
    "w.grad"
   ]
  },
  {
   "cell_type": "code",
   "execution_count": 13,
   "id": "2627e298",
   "metadata": {},
   "outputs": [
    {
     "data": {
      "text/plain": [
       "tensor([1.])"
      ]
     },
     "execution_count": 13,
     "metadata": {},
     "output_type": "execute_result"
    }
   ],
   "source": [
    "b.grad"
   ]
  },
  {
   "cell_type": "markdown",
   "id": "6c72936b",
   "metadata": {},
   "source": [
    "### Regression"
   ]
  },
  {
   "cell_type": "markdown",
   "id": "000bc81c",
   "metadata": {},
   "source": [
    "#### x, y training data"
   ]
  },
  {
   "cell_type": "code",
   "execution_count": 14,
   "id": "423ed330",
   "metadata": {},
   "outputs": [
    {
     "data": {
      "text/plain": [
       "(11, 1)"
      ]
     },
     "execution_count": 14,
     "metadata": {},
     "output_type": "execute_result"
    }
   ],
   "source": [
    "import numpy as np\n",
    "\n",
    "x_values = [i for i in range(11)]\n",
    "x_train = np.array(x_values,dtype=np.float32)\n",
    "x_train = x_train.reshape(-1,1)\n",
    "x_train.shape"
   ]
  },
  {
   "cell_type": "code",
   "execution_count": 15,
   "id": "4e62e495",
   "metadata": {},
   "outputs": [
    {
     "data": {
      "text/plain": [
       "(11, 1)"
      ]
     },
     "execution_count": 15,
     "metadata": {},
     "output_type": "execute_result"
    }
   ],
   "source": [
    "y_values = [4*i+5 for i in x_values]\n",
    "y_train = np.array(y_values,dtype=np.float32)\n",
    "y_train = y_train.reshape(-1,1)\n",
    "y_train.shape"
   ]
  },
  {
   "cell_type": "markdown",
   "id": "20c1c958",
   "metadata": {},
   "source": [
    "#### model"
   ]
  },
  {
   "cell_type": "code",
   "execution_count": 16,
   "id": "728cfe9b",
   "metadata": {},
   "outputs": [],
   "source": [
    "import torch.nn as nn"
   ]
  },
  {
   "cell_type": "code",
   "execution_count": 17,
   "id": "8ac30385",
   "metadata": {},
   "outputs": [],
   "source": [
    "class LinearRgressionModel(nn.Module):\n",
    "    def __init__(self,input_dim,output_dim):\n",
    "        super(LinearRgressionModel,self).__init__()\n",
    "        self.linear = nn.Linear(input_dim,output_dim)\n",
    "    def forward(self,x):\n",
    "        out = self.linear(x)\n",
    "        return out"
   ]
  },
  {
   "cell_type": "code",
   "execution_count": 18,
   "id": "a741ea59",
   "metadata": {},
   "outputs": [],
   "source": [
    "input_dim=1\n",
    "output_dim=1\n",
    "model = LinearRgressionModel(input_dim,output_dim)"
   ]
  },
  {
   "cell_type": "code",
   "execution_count": 19,
   "id": "8cc63b91",
   "metadata": {},
   "outputs": [
    {
     "data": {
      "text/plain": [
       "LinearRgressionModel(\n",
       "  (linear): Linear(in_features=1, out_features=1, bias=True)\n",
       ")"
      ]
     },
     "execution_count": 19,
     "metadata": {},
     "output_type": "execute_result"
    }
   ],
   "source": [
    "model"
   ]
  },
  {
   "cell_type": "markdown",
   "id": "77baa856",
   "metadata": {},
   "source": [
    "#### parameters and loss function"
   ]
  },
  {
   "cell_type": "code",
   "execution_count": 20,
   "id": "2d01ba3c",
   "metadata": {},
   "outputs": [],
   "source": [
    "epochs = 1000\n",
    "learning_rate = 0.01\n",
    "optimizer = torch.optim.SGD(model.parameters(),lr=learning_rate)\n",
    "criterion = nn.MSELoss()"
   ]
  },
  {
   "cell_type": "markdown",
   "id": "c4c93ff5",
   "metadata": {},
   "source": [
    "#### train"
   ]
  },
  {
   "cell_type": "code",
   "execution_count": 21,
   "id": "2bbdfe59",
   "metadata": {},
   "outputs": [
    {
     "name": "stdout",
     "output_type": "stream",
     "text": [
      "epoch 50,loss 3.5899481773376465\n",
      "epoch 100,loss 2.0475733280181885\n",
      "epoch 150,loss 1.167859673500061\n",
      "epoch 200,loss 0.6661033630371094\n",
      "epoch 250,loss 0.37992003560066223\n",
      "epoch 300,loss 0.2166920155286789\n",
      "epoch 350,loss 0.12359335273504257\n",
      "epoch 400,loss 0.07049278914928436\n",
      "epoch 450,loss 0.04020634666085243\n",
      "epoch 500,loss 0.022931911051273346\n",
      "epoch 550,loss 0.01307953055948019\n",
      "epoch 600,loss 0.007460181601345539\n",
      "epoch 650,loss 0.0042549786157906055\n",
      "epoch 700,loss 0.002426860388368368\n",
      "epoch 750,loss 0.001384245348162949\n",
      "epoch 800,loss 0.0007895108428783715\n",
      "epoch 850,loss 0.00045033020433038473\n",
      "epoch 900,loss 0.00025687110610306263\n",
      "epoch 950,loss 0.0001465037785237655\n",
      "epoch 1000,loss 8.355110185220838e-05\n"
     ]
    }
   ],
   "source": [
    "for epoch in range(epochs):\n",
    "    epoch += 1\n",
    "    inputs = torch.from_numpy(x_train)\n",
    "    labels = torch.from_numpy(y_train)\n",
    "    \n",
    "    # clean gradients\n",
    "    optimizer.zero_grad()\n",
    "    \n",
    "    # forward\n",
    "    outputs = model(inputs)\n",
    "    \n",
    "    # loss\n",
    "    loss = criterion(outputs,labels)\n",
    "    \n",
    "    # back\n",
    "    loss.backward()\n",
    "    \n",
    "    \n",
    "    # update\n",
    "    optimizer.step()\n",
    "    \n",
    "    if epoch % 50 == 0:\n",
    "        print('epoch {},loss {}'.format(epoch,loss.item()))"
   ]
  },
  {
   "cell_type": "code",
   "execution_count": 22,
   "id": "0f5f5ee2",
   "metadata": {
    "scrolled": true
   },
   "outputs": [
    {
     "data": {
      "text/plain": [
       "array([[ 4.982996],\n",
       "       [ 8.985445],\n",
       "       [12.987893],\n",
       "       [16.990341],\n",
       "       [20.99279 ],\n",
       "       [24.99524 ],\n",
       "       [28.997686],\n",
       "       [33.000137],\n",
       "       [37.002586],\n",
       "       [41.005035],\n",
       "       [45.007484]], dtype=float32)"
      ]
     },
     "execution_count": 22,
     "metadata": {},
     "output_type": "execute_result"
    }
   ],
   "source": [
    "predicted = model(torch.from_numpy(x_train).requires_grad_()).data.numpy()\n",
    "predicted"
   ]
  },
  {
   "cell_type": "markdown",
   "id": "4c23122b",
   "metadata": {},
   "source": [
    "### Save model"
   ]
  },
  {
   "cell_type": "code",
   "execution_count": 23,
   "id": "a649c277",
   "metadata": {},
   "outputs": [
    {
     "data": {
      "text/plain": [
       "<All keys matched successfully>"
      ]
     },
     "execution_count": 23,
     "metadata": {},
     "output_type": "execute_result"
    }
   ],
   "source": [
    "torch.save(model.state_dict(),'model.pkl')\n",
    "model.load_state_dict(torch.load('model.pkl'))"
   ]
  },
  {
   "cell_type": "markdown",
   "id": "0c149830",
   "metadata": {},
   "source": [
    "### GPU"
   ]
  },
  {
   "cell_type": "code",
   "execution_count": 24,
   "id": "8760f7b2",
   "metadata": {},
   "outputs": [
    {
     "name": "stdout",
     "output_type": "stream",
     "text": [
      "epoch 50,loss 4.3861870765686035\n",
      "epoch 100,loss 2.5017170906066895\n",
      "epoch 150,loss 1.4268853664398193\n",
      "epoch 200,loss 0.8138422966003418\n",
      "epoch 250,loss 0.46418485045433044\n",
      "epoch 300,loss 0.26475435495376587\n",
      "epoch 350,loss 0.1510057896375656\n",
      "epoch 400,loss 0.08612798899412155\n",
      "epoch 450,loss 0.0491241030395031\n",
      "epoch 500,loss 0.028018712997436523\n",
      "epoch 550,loss 0.01598086953163147\n",
      "epoch 600,loss 0.00911486055701971\n",
      "epoch 650,loss 0.005198811646550894\n",
      "epoch 700,loss 0.0029651224613189697\n",
      "epoch 750,loss 0.001691219164058566\n",
      "epoch 800,loss 0.0009645908139646053\n",
      "epoch 850,loss 0.0005501704290509224\n",
      "epoch 900,loss 0.000313791970256716\n",
      "epoch 950,loss 0.00017895617929752916\n",
      "epoch 1000,loss 0.00010205437138210982\n"
     ]
    }
   ],
   "source": [
    "class LinearRgressionModel(nn.Module):\n",
    "    def __init__(self,input_dim,output_dim):\n",
    "        super(LinearRgressionModel,self).__init__()\n",
    "        self.linear = nn.Linear(input_dim,output_dim)\n",
    "    def forward(self,x):\n",
    "        out = self.linear(x)\n",
    "        return out\n",
    "    \n",
    "input_dim=1\n",
    "output_dim=1\n",
    "model = LinearRgressionModel(input_dim,output_dim)\n",
    "\n",
    "device = torch.device(\"cuda:0\" if torch.cuda.is_available() else \"cpu\")\n",
    "model.to(device)\n",
    "\n",
    "epochs = 1000\n",
    "learning_rate = 0.01\n",
    "optimizer = torch.optim.SGD(model.parameters(),lr=learning_rate)\n",
    "criterion = nn.MSELoss()\n",
    "\n",
    "for epoch in range(epochs):\n",
    "    epoch += 1\n",
    "    inputs = torch.from_numpy(x_train).to(device)\n",
    "    labels = torch.from_numpy(y_train).to(device)\n",
    "    \n",
    "    # clean gradients\n",
    "    optimizer.zero_grad()\n",
    "    \n",
    "    # forward\n",
    "    outputs = model(inputs)\n",
    "    \n",
    "    # loss\n",
    "    loss = criterion(outputs,labels)\n",
    "    \n",
    "    # back\n",
    "    loss.backward()\n",
    "    \n",
    "    \n",
    "    # update\n",
    "    optimizer.step()\n",
    "    \n",
    "    if epoch % 50 == 0:\n",
    "        print('epoch {},loss {}'.format(epoch,loss.item()))\n"
   ]
  }
 ],
 "metadata": {
  "kernelspec": {
   "display_name": "pytorch",
   "language": "python",
   "name": "pytorch"
  },
  "language_info": {
   "codemirror_mode": {
    "name": "ipython",
    "version": 3
   },
   "file_extension": ".py",
   "mimetype": "text/x-python",
   "name": "python",
   "nbconvert_exporter": "python",
   "pygments_lexer": "ipython3",
   "version": "3.9.13"
  }
 },
 "nbformat": 4,
 "nbformat_minor": 5
}

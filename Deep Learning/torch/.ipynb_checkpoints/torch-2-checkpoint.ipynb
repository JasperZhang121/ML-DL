{
 "cells": [
  {
   "cell_type": "markdown",
   "id": "94cb2b18",
   "metadata": {},
   "source": [
    "## Gradient"
   ]
  },
  {
   "cell_type": "code",
   "execution_count": 1,
   "id": "55e155b3",
   "metadata": {},
   "outputs": [],
   "source": [
    "import torch"
   ]
  },
  {
   "cell_type": "code",
   "execution_count": 3,
   "id": "e288730e",
   "metadata": {},
   "outputs": [
    {
     "data": {
      "text/plain": [
       "tensor([[ 1.2066, -0.8176, -0.5722, -0.2192],\n",
       "        [-1.3776, -1.5579,  1.0111,  0.6343],\n",
       "        [-0.0969,  1.2330,  1.7345, -0.3557]], requires_grad=True)"
      ]
     },
     "execution_count": 3,
     "metadata": {},
     "output_type": "execute_result"
    }
   ],
   "source": [
    "x = torch.randn(3,4,requires_grad=True)\n",
    "x"
   ]
  },
  {
   "cell_type": "code",
   "execution_count": 4,
   "id": "aae906d9",
   "metadata": {},
   "outputs": [
    {
     "data": {
      "text/plain": [
       "tensor([[ 1.5999,  0.7062,  0.8313, -1.3118],\n",
       "        [-0.3060,  2.3464,  0.2191, -0.6782],\n",
       "        [-0.0836, -1.3554,  1.2559,  0.4027]], requires_grad=True)"
      ]
     },
     "execution_count": 4,
     "metadata": {},
     "output_type": "execute_result"
    }
   ],
   "source": [
    "b = torch.randn(3,4,requires_grad=True)\n",
    "b"
   ]
  },
  {
   "cell_type": "code",
   "execution_count": 5,
   "id": "ed77c269",
   "metadata": {},
   "outputs": [],
   "source": [
    "t = x+b"
   ]
  },
  {
   "cell_type": "code",
   "execution_count": 6,
   "id": "919a7634",
   "metadata": {},
   "outputs": [
    {
     "data": {
      "text/plain": [
       "tensor(4.4492, grad_fn=<SumBackward0>)"
      ]
     },
     "execution_count": 6,
     "metadata": {},
     "output_type": "execute_result"
    }
   ],
   "source": [
    "y = t.sum()\n",
    "y"
   ]
  },
  {
   "cell_type": "code",
   "execution_count": 7,
   "id": "2ae51432",
   "metadata": {},
   "outputs": [],
   "source": [
    "y.backward()"
   ]
  },
  {
   "cell_type": "code",
   "execution_count": 9,
   "id": "2801fc88",
   "metadata": {},
   "outputs": [
    {
     "data": {
      "text/plain": [
       "tensor([[1., 1., 1., 1.],\n",
       "        [1., 1., 1., 1.],\n",
       "        [1., 1., 1., 1.]])"
      ]
     },
     "execution_count": 9,
     "metadata": {},
     "output_type": "execute_result"
    }
   ],
   "source": [
    "b.grad"
   ]
  },
  {
   "cell_type": "code",
   "execution_count": 10,
   "id": "0d00e012",
   "metadata": {},
   "outputs": [
    {
     "data": {
      "text/plain": [
       "True"
      ]
     },
     "execution_count": 10,
     "metadata": {},
     "output_type": "execute_result"
    }
   ],
   "source": [
    "t.requires_grad"
   ]
  },
  {
   "cell_type": "markdown",
   "id": "e19d5ed3",
   "metadata": {},
   "source": [
    "### Cal"
   ]
  },
  {
   "cell_type": "code",
   "execution_count": 11,
   "id": "82c91945",
   "metadata": {},
   "outputs": [],
   "source": [
    "x = torch.rand(1)\n",
    "b = torch.rand(1,requires_grad = True)\n",
    "w = torch.rand(1,requires_grad = True)\n",
    "y = w * x\n",
    "z = y + b"
   ]
  },
  {
   "cell_type": "code",
   "execution_count": 12,
   "id": "6728cc58",
   "metadata": {},
   "outputs": [
    {
     "data": {
      "text/plain": [
       "(True, True, True, False, False)"
      ]
     },
     "execution_count": 12,
     "metadata": {},
     "output_type": "execute_result"
    }
   ],
   "source": [
    "x.is_leaf, w.is_leaf, b.is_leaf, y.is_leaf, z.is_leaf "
   ]
  },
  {
   "cell_type": "code",
   "execution_count": 13,
   "id": "288a1aa2",
   "metadata": {},
   "outputs": [],
   "source": [
    "z.backward(retain_graph=True)"
   ]
  },
  {
   "cell_type": "code",
   "execution_count": 14,
   "id": "b745120f",
   "metadata": {},
   "outputs": [
    {
     "data": {
      "text/plain": [
       "tensor([0.4197])"
      ]
     },
     "execution_count": 14,
     "metadata": {},
     "output_type": "execute_result"
    }
   ],
   "source": [
    "w.grad"
   ]
  },
  {
   "cell_type": "code",
   "execution_count": 15,
   "id": "8800caca",
   "metadata": {},
   "outputs": [
    {
     "data": {
      "text/plain": [
       "tensor([1.])"
      ]
     },
     "execution_count": 15,
     "metadata": {},
     "output_type": "execute_result"
    }
   ],
   "source": [
    "b.grad"
   ]
  },
  {
   "cell_type": "markdown",
   "id": "56d91089",
   "metadata": {},
   "source": [
    "### Regression"
   ]
  },
  {
   "cell_type": "markdown",
   "id": "ba3931ee",
   "metadata": {},
   "source": [
    "#### x, y training data"
   ]
  },
  {
   "cell_type": "code",
   "execution_count": 18,
   "id": "75dcdba0",
   "metadata": {},
   "outputs": [
    {
     "data": {
      "text/plain": [
       "(11, 1)"
      ]
     },
     "execution_count": 18,
     "metadata": {},
     "output_type": "execute_result"
    }
   ],
   "source": [
    "import numpy as np\n",
    "\n",
    "x_values = [i for i in range(11)]\n",
    "x_train = np.array(x_values,dtype=np.float32)\n",
    "x_train = x_train.reshape(-1,1)\n",
    "x_train.shape"
   ]
  },
  {
   "cell_type": "code",
   "execution_count": 20,
   "id": "29ebed4c",
   "metadata": {},
   "outputs": [
    {
     "data": {
      "text/plain": [
       "(11, 1)"
      ]
     },
     "execution_count": 20,
     "metadata": {},
     "output_type": "execute_result"
    }
   ],
   "source": [
    "y_values = [4*i+5 for i in x_values]\n",
    "y_train = np.array(y_values,dtype=np.float32)\n",
    "y_train = y_train.reshape(-1,1)\n",
    "y_train.shape"
   ]
  },
  {
   "cell_type": "markdown",
   "id": "be8303b3",
   "metadata": {},
   "source": [
    "#### model"
   ]
  },
  {
   "cell_type": "code",
   "execution_count": 21,
   "id": "1083ba0d",
   "metadata": {},
   "outputs": [],
   "source": [
    "import torch.nn as nn"
   ]
  },
  {
   "cell_type": "code",
   "execution_count": 29,
   "id": "fc9eb77d",
   "metadata": {},
   "outputs": [],
   "source": [
    "class LinearRgressionModel(nn.Module):\n",
    "    def __init__(self,input_dim,output_dim):\n",
    "        super(LinearRgressionModel,self).__init__()\n",
    "        self.linear = nn.Linear(input_dim,output_dim)\n",
    "    def forward(self,x):\n",
    "        out = self.linear(x)\n",
    "        return out"
   ]
  },
  {
   "cell_type": "code",
   "execution_count": 30,
   "id": "39379f8b",
   "metadata": {},
   "outputs": [],
   "source": [
    "input_dim=1\n",
    "output_dim=1\n",
    "model = LinearRgressionModel(input_dim,output_dim)"
   ]
  },
  {
   "cell_type": "code",
   "execution_count": 31,
   "id": "f490f771",
   "metadata": {},
   "outputs": [
    {
     "data": {
      "text/plain": [
       "LinearRgressionModel(\n",
       "  (linear): Linear(in_features=1, out_features=1, bias=True)\n",
       ")"
      ]
     },
     "execution_count": 31,
     "metadata": {},
     "output_type": "execute_result"
    }
   ],
   "source": [
    "model"
   ]
  },
  {
   "cell_type": "markdown",
   "id": "2114732e",
   "metadata": {},
   "source": [
    "#### parameters and loss function"
   ]
  },
  {
   "cell_type": "code",
   "execution_count": 35,
   "id": "6740c958",
   "metadata": {},
   "outputs": [],
   "source": [
    "epochs = 1000\n",
    "learning_rate = 0.01\n",
    "optimizer = torch.optim.SGD(model.parameters(),lr=learning_rate)\n",
    "criterion = nn.MSELoss()"
   ]
  },
  {
   "cell_type": "markdown",
   "id": "5aebb9cd",
   "metadata": {},
   "source": [
    "#### train"
   ]
  },
  {
   "cell_type": "code",
   "execution_count": 39,
   "id": "5a50b378",
   "metadata": {},
   "outputs": [
    {
     "name": "stdout",
     "output_type": "stream",
     "text": [
      "epoch 50,loss 3.8444079109467566e-05\n",
      "epoch 100,loss 2.193249383708462e-05\n",
      "epoch 150,loss 1.251150661119027e-05\n",
      "epoch 200,loss 7.138766250136541e-06\n",
      "epoch 250,loss 4.071950570505578e-06\n",
      "epoch 300,loss 2.3234279069583863e-06\n",
      "epoch 350,loss 1.3248012464828207e-06\n",
      "epoch 400,loss 7.564365773760073e-07\n",
      "epoch 450,loss 4.325591476117552e-07\n",
      "epoch 500,loss 2.464127248913428e-07\n",
      "epoch 550,loss 1.40716693408649e-07\n",
      "epoch 600,loss 8.038711740709914e-08\n",
      "epoch 650,loss 4.567294453750037e-08\n",
      "epoch 700,loss 2.588225633815e-08\n",
      "epoch 750,loss 1.4807648440751109e-08\n",
      "epoch 800,loss 8.676000362584091e-09\n",
      "epoch 850,loss 4.6947290499588235e-09\n",
      "epoch 900,loss 3.0761797553680026e-09\n",
      "epoch 950,loss 1.8266167467473338e-09\n",
      "epoch 1000,loss 8.660249739556036e-10\n"
     ]
    }
   ],
   "source": [
    "for epoch in range(epochs):\n",
    "    epoch += 1\n",
    "    inputs = torch.from_numpy(x_train)\n",
    "    labels = torch.from_numpy(y_train)\n",
    "    \n",
    "    # clean gradients\n",
    "    optimizer.zero_grad()\n",
    "    \n",
    "    # forward\n",
    "    outputs = model(inputs)\n",
    "    \n",
    "    # loss\n",
    "    loss = criterion(outputs,labels)\n",
    "    \n",
    "    # back\n",
    "    loss.backward()\n",
    "    \n",
    "    \n",
    "    # update\n",
    "    optimizer.step()\n",
    "    \n",
    "    if epoch % 50 == 0:\n",
    "        print('epoch {},loss {}'.format(epoch,loss.item()))"
   ]
  },
  {
   "cell_type": "code",
   "execution_count": 42,
   "id": "fcba5a23",
   "metadata": {
    "scrolled": true
   },
   "outputs": [
    {
     "data": {
      "text/plain": [
       "array([[ 4.9999447],\n",
       "       [ 8.999952 ],\n",
       "       [12.999961 ],\n",
       "       [16.99997  ],\n",
       "       [20.999977 ],\n",
       "       [24.999985 ],\n",
       "       [28.999994 ],\n",
       "       [33.       ],\n",
       "       [37.000008 ],\n",
       "       [41.000015 ],\n",
       "       [45.000023 ]], dtype=float32)"
      ]
     },
     "execution_count": 42,
     "metadata": {},
     "output_type": "execute_result"
    }
   ],
   "source": [
    "predicted = model(torch.from_numpy(x_train).requires_grad_()).data.numpy()\n",
    "predicted"
   ]
  },
  {
   "cell_type": "markdown",
   "id": "ec0029f6",
   "metadata": {},
   "source": [
    "### Save model"
   ]
  },
  {
   "cell_type": "code",
   "execution_count": 43,
   "id": "9baaf996",
   "metadata": {},
   "outputs": [
    {
     "data": {
      "text/plain": [
       "<All keys matched successfully>"
      ]
     },
     "execution_count": 43,
     "metadata": {},
     "output_type": "execute_result"
    }
   ],
   "source": [
    "torch.save(model.state_dict(),'model.pkl')\n",
    "model.load_state_dict(torch.load('model.pkl'))"
   ]
  },
  {
   "cell_type": "markdown",
   "id": "06603b48",
   "metadata": {},
   "source": [
    "### GPU"
   ]
  },
  {
   "cell_type": "code",
   "execution_count": 45,
   "id": "57ded03c",
   "metadata": {},
   "outputs": [
    {
     "name": "stdout",
     "output_type": "stream",
     "text": [
      "epoch 50,loss 3.946622848510742\n",
      "epoch 100,loss 2.2510063648223877\n",
      "epoch 150,loss 1.2838897705078125\n",
      "epoch 200,loss 0.7322835922241211\n",
      "epoch 250,loss 0.4176669120788574\n",
      "epoch 300,loss 0.23822173476219177\n",
      "epoch 350,loss 0.1358734667301178\n",
      "epoch 400,loss 0.0774967223405838\n",
      "epoch 450,loss 0.04420126602053642\n",
      "epoch 500,loss 0.025211090222001076\n",
      "epoch 550,loss 0.014379395171999931\n",
      "epoch 600,loss 0.008201493881642818\n",
      "epoch 650,loss 0.004677999764680862\n",
      "epoch 700,loss 0.0026682179886847734\n",
      "epoch 750,loss 0.0015218466287478805\n",
      "epoch 800,loss 0.0008680180762894452\n",
      "epoch 850,loss 0.0004950548755005002\n",
      "epoch 900,loss 0.000282366294413805\n",
      "epoch 950,loss 0.00016105506801977754\n",
      "epoch 1000,loss 9.18474979698658e-05\n"
     ]
    }
   ],
   "source": [
    "class LinearRgressionModel(nn.Module):\n",
    "    def __init__(self,input_dim,output_dim):\n",
    "        super(LinearRgressionModel,self).__init__()\n",
    "        self.linear = nn.Linear(input_dim,output_dim)\n",
    "    def forward(self,x):\n",
    "        out = self.linear(x)\n",
    "        return out\n",
    "    \n",
    "input_dim=1\n",
    "output_dim=1\n",
    "model = LinearRgressionModel(input_dim,output_dim)\n",
    "\n",
    "device = torch.device(\"cuda:0\" if torch.cuda.is_available() else \"cpu\")\n",
    "model.to(device)\n",
    "\n",
    "epochs = 1000\n",
    "learning_rate = 0.01\n",
    "optimizer = torch.optim.SGD(model.parameters(),lr=learning_rate)\n",
    "criterion = nn.MSELoss()\n",
    "\n",
    "for epoch in range(epochs):\n",
    "    epoch += 1\n",
    "    inputs = torch.from_numpy(x_train).to(device)\n",
    "    labels = torch.from_numpy(y_train).to(device)\n",
    "    \n",
    "    # clean gradients\n",
    "    optimizer.zero_grad()\n",
    "    \n",
    "    # forward\n",
    "    outputs = model(inputs)\n",
    "    \n",
    "    # loss\n",
    "    loss = criterion(outputs,labels)\n",
    "    \n",
    "    # back\n",
    "    loss.backward()\n",
    "    \n",
    "    \n",
    "    # update\n",
    "    optimizer.step()\n",
    "    \n",
    "    if epoch % 50 == 0:\n",
    "        print('epoch {},loss {}'.format(epoch,loss.item()))\n"
   ]
  }
 ],
 "metadata": {
  "kernelspec": {
   "display_name": "pytorch",
   "language": "python",
   "name": "pytorch"
  },
  "language_info": {
   "codemirror_mode": {
    "name": "ipython",
    "version": 3
   },
   "file_extension": ".py",
   "mimetype": "text/x-python",
   "name": "python",
   "nbconvert_exporter": "python",
   "pygments_lexer": "ipython3",
   "version": "3.9.13"
  }
 },
 "nbformat": 4,
 "nbformat_minor": 5
}

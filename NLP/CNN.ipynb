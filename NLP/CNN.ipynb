{
 "cells": [
  {
   "cell_type": "markdown",
   "id": "dd7d1cd6",
   "metadata": {},
   "source": [
    "## CNN\n",
    "- Be designed for image classification on the CIFAR-10 dataset"
   ]
  },
  {
   "cell_type": "code",
   "execution_count": 1,
   "id": "4d57095c",
   "metadata": {},
   "outputs": [],
   "source": [
    "import torch\n",
    "import torch.nn as nn\n",
    "import torch.optim as optim\n",
    "import torchvision\n",
    "import torchvision.transforms as transforms"
   ]
  },
  {
   "cell_type": "markdown",
   "id": "54c4d234",
   "metadata": {},
   "source": [
    "### Class"
   ]
  },
  {
   "cell_type": "code",
   "execution_count": 2,
   "id": "27f94a21",
   "metadata": {},
   "outputs": [],
   "source": [
    "class SimpleCNN(nn.Module):\n",
    "    def __init__(self):\n",
    "        super(SimpleCNN, self).__init__()\n",
    "        self.conv1 = nn.Conv2d(3, 32, 3, padding=1)  # Input: 3 channels, Output: 32 channels, Kernel size: 3x3\n",
    "        self.conv2 = nn.Conv2d(32, 64, 3, padding=1)\n",
    "        self.pool = nn.MaxPool2d(2, 2)  # Pooling layer with 2x2 window\n",
    "        self.fc1 = nn.Linear(64 * 8 * 8, 512)  # Fully connected layer\n",
    "        self.fc2 = nn.Linear(512, 10)  # Output layer (10 classes in CIFAR-10)\n",
    "\n",
    "    def forward(self, x):\n",
    "        x = self.pool(F.relu(self.conv1(x)))\n",
    "        x = self.pool(F.relu(self.conv2(x)))\n",
    "        x = x.view(-1, 64 * 8 * 8)\n",
    "        x = F.relu(self.fc1(x))\n",
    "        x = self.fc2(x)\n",
    "        return x"
   ]
  },
  {
   "cell_type": "markdown",
   "id": "d891a833",
   "metadata": {},
   "source": [
    "### Dataset"
   ]
  },
  {
   "cell_type": "code",
   "execution_count": 3,
   "id": "a522bd5f",
   "metadata": {},
   "outputs": [
    {
     "name": "stdout",
     "output_type": "stream",
     "text": [
      "Downloading https://www.cs.toronto.edu/~kriz/cifar-10-python.tar.gz to ./data\\cifar-10-python.tar.gz\n"
     ]
    },
    {
     "name": "stderr",
     "output_type": "stream",
     "text": [
      "100%|███████████████████████████████████████████████████████████████| 170498071/170498071 [01:23<00:00, 2031439.68it/s]\n"
     ]
    },
    {
     "name": "stdout",
     "output_type": "stream",
     "text": [
      "Extracting ./data\\cifar-10-python.tar.gz to ./data\n",
      "Files already downloaded and verified\n"
     ]
    }
   ],
   "source": [
    "transform = transforms.Compose(\n",
    "    [transforms.ToTensor(),\n",
    "     transforms.Normalize((0.5, 0.5, 0.5), (0.5, 0.5, 0.5))])\n",
    "\n",
    "trainset = torchvision.datasets.CIFAR10(root='./data', train=True, download=True, transform=transform)\n",
    "trainloader = torch.utils.data.DataLoader(trainset, batch_size=4, shuffle=True)\n",
    "\n",
    "testset = torchvision.datasets.CIFAR10(root='./data', train=False, download=True, transform=transform)\n",
    "testloader = torch.utils.data.DataLoader(testset, batch_size=4, shuffle=False)"
   ]
  },
  {
   "cell_type": "markdown",
   "id": "62f970e1",
   "metadata": {},
   "source": [
    "### Train"
   ]
  },
  {
   "cell_type": "code",
   "execution_count": 4,
   "id": "778d6b73",
   "metadata": {
    "scrolled": true
   },
   "outputs": [
    {
     "name": "stdout",
     "output_type": "stream",
     "text": [
      "[1,  2000] loss: 1.920\n",
      "[1,  4000] loss: 1.554\n",
      "[1,  6000] loss: 1.404\n",
      "[1,  8000] loss: 1.311\n",
      "[1, 10000] loss: 1.230\n",
      "[1, 12000] loss: 1.145\n",
      "[2,  2000] loss: 1.047\n",
      "[2,  4000] loss: 1.013\n",
      "[2,  6000] loss: 0.967\n",
      "[2,  8000] loss: 0.951\n",
      "[2, 10000] loss: 0.932\n",
      "[2, 12000] loss: 0.900\n",
      "[3,  2000] loss: 0.770\n",
      "[3,  4000] loss: 0.759\n",
      "[3,  6000] loss: 0.755\n",
      "[3,  8000] loss: 0.742\n",
      "[3, 10000] loss: 0.747\n",
      "[3, 12000] loss: 0.726\n",
      "[4,  2000] loss: 0.547\n",
      "[4,  4000] loss: 0.577\n",
      "[4,  6000] loss: 0.575\n",
      "[4,  8000] loss: 0.571\n",
      "[4, 10000] loss: 0.565\n",
      "[4, 12000] loss: 0.607\n",
      "[5,  2000] loss: 0.365\n",
      "[5,  4000] loss: 0.377\n",
      "[5,  6000] loss: 0.412\n",
      "[5,  8000] loss: 0.402\n",
      "[5, 10000] loss: 0.421\n",
      "[5, 12000] loss: 0.442\n",
      "[6,  2000] loss: 0.222\n",
      "[6,  4000] loss: 0.228\n",
      "[6,  6000] loss: 0.247\n",
      "[6,  8000] loss: 0.265\n",
      "[6, 10000] loss: 0.289\n",
      "[6, 12000] loss: 0.312\n",
      "[7,  2000] loss: 0.130\n",
      "[7,  4000] loss: 0.127\n",
      "[7,  6000] loss: 0.154\n",
      "[7,  8000] loss: 0.152\n",
      "[7, 10000] loss: 0.174\n",
      "[7, 12000] loss: 0.190\n",
      "[8,  2000] loss: 0.076\n",
      "[8,  4000] loss: 0.095\n",
      "[8,  6000] loss: 0.105\n",
      "[8,  8000] loss: 0.127\n",
      "[8, 10000] loss: 0.126\n",
      "[8, 12000] loss: 0.139\n",
      "[9,  2000] loss: 0.050\n",
      "[9,  4000] loss: 0.074\n",
      "[9,  6000] loss: 0.076\n",
      "[9,  8000] loss: 0.089\n",
      "[9, 10000] loss: 0.080\n",
      "[9, 12000] loss: 0.100\n",
      "[10,  2000] loss: 0.048\n",
      "[10,  4000] loss: 0.048\n",
      "[10,  6000] loss: 0.055\n",
      "[10,  8000] loss: 0.079\n",
      "[10, 10000] loss: 0.068\n",
      "[10, 12000] loss: 0.085\n",
      "Finished Training\n"
     ]
    }
   ],
   "source": [
    "import torch.nn.functional as F\n",
    "\n",
    "device = torch.device(\"cuda\" if torch.cuda.is_available() else \"cpu\")\n",
    "\n",
    "model = SimpleCNN().to(device)\n",
    "criterion = nn.CrossEntropyLoss()\n",
    "optimizer = optim.SGD(model.parameters(), lr=0.001, momentum=0.9)\n",
    "\n",
    "# Train the model\n",
    "for epoch in range(10):  # loop over the dataset multiple times\n",
    "    running_loss = 0.0\n",
    "    for i, data in enumerate(trainloader, 0):\n",
    "        inputs, labels = data[0].to(device), data[1].to(device)\n",
    "\n",
    "        optimizer.zero_grad()\n",
    "        outputs = model(inputs)\n",
    "        loss = criterion(outputs, labels)\n",
    "        loss.backward()\n",
    "        optimizer.step()\n",
    "\n",
    "        running_loss += loss.item()\n",
    "        if i % 2000 == 1999:  # print every 2000 mini-batches\n",
    "            print('[%d, %5d] loss: %.3f' % (epoch + 1, i + 1, running_loss / 2000))\n",
    "            running_loss = 0.0\n",
    "\n",
    "print('Finished Training')"
   ]
  },
  {
   "cell_type": "markdown",
   "id": "2518d4a5",
   "metadata": {},
   "source": [
    "### Test"
   ]
  },
  {
   "cell_type": "code",
   "execution_count": 5,
   "id": "438c7254",
   "metadata": {},
   "outputs": [
    {
     "name": "stdout",
     "output_type": "stream",
     "text": [
      "Accuracy of the network on the 10000 test images: 73 %\n"
     ]
    }
   ],
   "source": [
    "correct = 0\n",
    "total = 0\n",
    "with torch.no_grad():\n",
    "    for data in testloader:\n",
    "        images, labels = data[0].to(device), data[1].to(device)\n",
    "        outputs = model(images)\n",
    "        _, predicted = torch.max(outputs.data, 1)\n",
    "        total += labels.size(0)\n",
    "        correct += (predicted == labels).sum().item()\n",
    "\n",
    "print('Accuracy of the network on the 10000 test images: %d %%' % (100 * correct / total))"
   ]
  }
 ],
 "metadata": {
  "kernelspec": {
   "display_name": "pytorch",
   "language": "python",
   "name": "pytorch"
  },
  "language_info": {
   "codemirror_mode": {
    "name": "ipython",
    "version": 3
   },
   "file_extension": ".py",
   "mimetype": "text/x-python",
   "name": "python",
   "nbconvert_exporter": "python",
   "pygments_lexer": "ipython3",
   "version": "3.9.13"
  }
 },
 "nbformat": 4,
 "nbformat_minor": 5
}

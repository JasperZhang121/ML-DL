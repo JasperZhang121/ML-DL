{
 "cells": [
  {
   "cell_type": "markdown",
   "id": "e8fb17bf",
   "metadata": {},
   "source": [
    "## 1.1 Information Retrieval Ranking"
   ]
  },
  {
   "cell_type": "markdown",
   "id": "b2ead7cb",
   "metadata": {},
   "source": [
    "### TF-IDF\n",
    "\n",
    "- TF(term, document) = (Number of occurrences of the term in the document) / (Total number of terms in the document)\n",
    "- IDF(term) = log((Total number of documents) / (Number of documents containing the term))\n",
    "- TF-IDF = TF*IDF"
   ]
  },
  {
   "cell_type": "markdown",
   "id": "88ff1e50",
   "metadata": {},
   "source": [
    "### Example\n",
    "\n",
    "| |quick | brown | fox|\n",
    "|---|---|---|---|\n",
    "|Doc1| 3 |0 |2|\n",
    "|Doc2| 0 |1 |1 |\n",
    "|Doc3| 0| 3| 6|"
   ]
  },
  {
   "cell_type": "code",
   "execution_count": 1,
   "id": "cb869845",
   "metadata": {},
   "outputs": [],
   "source": [
    "import math\n",
    "import numpy as np\n",
    "from scipy.spatial.distance import cosine"
   ]
  },
  {
   "cell_type": "code",
   "execution_count": 2,
   "id": "6dfe6476",
   "metadata": {},
   "outputs": [],
   "source": [
    "df = {\"quick\":1,\"brown\":2,\"fox\":3}\n",
    "idf = {\"Doc1\":math.log(3/1),\"Doc2\":math.log(3/2),\"Doc3\":math.log(3/3)}"
   ]
  },
  {
   "cell_type": "markdown",
   "id": "e5dfd224",
   "metadata": {},
   "source": [
    "\n",
    "| |quick | brown | fox|\n",
    "|---|---|---|---|\n",
    "|idf| log3 |log(3/2) |0|\n",
    "\n",
    "\n",
    "### tf-idf matrix\n",
    "\n",
    "Correspondingly, we can get the tf-idf matrix by multiplying TF aready shown in previous table and idf in previous table\n",
    "\n",
    "| |quick | brown | fox|\n",
    "|---|---|---|---|\n",
    "|Doc1| 3log(3) |0 |0|\n",
    "|Doc2| 0 |log(3/2) |0|\n",
    "|Doc3| 0| 3log(3/2)| 0|"
   ]
  },
  {
   "cell_type": "markdown",
   "id": "08f31315",
   "metadata": {},
   "source": [
    "### Cosine Similarity\n",
    "$$cosine_similarity(A, B) = \\frac{A \\cdot B}{\\|A\\| \\cdot \\|B\\|}$$"
   ]
  },
  {
   "cell_type": "markdown",
   "id": "96e0f7c5",
   "metadata": {},
   "source": [
    "### Example\n",
    "\n",
    "Query = \"quick fox\"\n",
    "\n",
    "| |quick | brown | fox|\n",
    "|---|---|---|---|\n",
    "|query| 1 |0 |1|\n",
    "\n",
    "and still using the idf vector\n",
    "\n",
    "| |quick | brown | fox|\n",
    "|---|---|---|---|\n",
    "|idf| log3 |log(3/2) |0|\n",
    "\n",
    "now we have tf-dif for query:\n",
    "\n",
    "| |quick | brown | fox|\n",
    "|---|---|---|---|\n",
    "|query| log3 |0 |0|"
   ]
  },
  {
   "cell_type": "code",
   "execution_count": 3,
   "id": "bd7d836c",
   "metadata": {},
   "outputs": [
    {
     "name": "stdout",
     "output_type": "stream",
     "text": [
      "1 0.0 0.0\n"
     ]
    }
   ],
   "source": [
    "# doc1\n",
    "sim_q_d1 = 1-cosine([math.log(3),0,0],[3*math.log(3),0,0])\n",
    "\n",
    "# doc2\n",
    "q = [math.log(3),0,0]\n",
    "d2 = [0,math.log(3/2),0]\n",
    "sim_q_d2 = np.dot(q,d2)/(np.linalg.norm(q)*np.linalg.norm(d2))\n",
    "\n",
    "# doc3\n",
    "sim_q_d3 = 1-cosine([math.log(3),0,0],[0,3*math.log(3/2),0])\n",
    "\n",
    "print(sim_q_d1, sim_q_d2, sim_q_d3)"
   ]
  },
  {
   "cell_type": "markdown",
   "id": "f16cd004",
   "metadata": {},
   "source": [
    "### Simple Calculation"
   ]
  },
  {
   "cell_type": "code",
   "execution_count": 4,
   "id": "d4eddf1c",
   "metadata": {},
   "outputs": [
    {
     "name": "stdout",
     "output_type": "stream",
     "text": [
      "[1, 0.0, 0.0]\n"
     ]
    }
   ],
   "source": [
    "tf = np.array([\n",
    "    [3,0,2],\n",
    "    [0,1,1],\n",
    "    [0,3,6],\n",
    "])\n",
    "q = np.array([1,0,1])\n",
    "\n",
    "idf = [math.log(3),math.log(3/2),0]\n",
    "\n",
    "tf_idf = tf*idf\n",
    "tf_idf_q= q*idf\n",
    "res = []\n",
    "\n",
    "for x in tf_idf:\n",
    "    sim = 1 - cosine(x,tf_idf_q)\n",
    "    res.append(sim)\n",
    "print(res)"
   ]
  },
  {
   "cell_type": "markdown",
   "id": "cf318470",
   "metadata": {},
   "source": [
    "## 1.2 Information Retrieval Evaluation\n",
    "\n",
    "Evaluation Metrics:\n",
    "- Precision\n",
    "- Recall"
   ]
  },
  {
   "cell_type": "markdown",
   "id": "9bb72f84",
   "metadata": {},
   "source": [
    "### Example\n",
    "\n",
    "For a given query, the system retrieves 10 documents, which are marked as being relevant (R) or irrelevant (I) in the following order: R, I, R, R, I, R, R, R, R, R The list is ordered left to right, so the leftmost R is the relevance of the first retrieved document. There are 12 relevant documents in the entire collection."
   ]
  },
  {
   "cell_type": "markdown",
   "id": "cc990be8",
   "metadata": {},
   "source": [
    "- what's the recall at 5 documents retrieved?"
   ]
  },
  {
   "cell_type": "code",
   "execution_count": 5,
   "id": "22c5e3c9",
   "metadata": {},
   "outputs": [
    {
     "name": "stdout",
     "output_type": "stream",
     "text": [
      "recall@5 is:  0.25\n"
     ]
    }
   ],
   "source": [
    "recall_at_5 = 3/12\n",
    "print(\"recall@5 is: \",recall_at_5)"
   ]
  },
  {
   "cell_type": "markdown",
   "id": "2faf0f2f",
   "metadata": {},
   "source": [
    "### Interpolated precision"
   ]
  },
  {
   "cell_type": "code",
   "execution_count": 6,
   "id": "4f8dd717",
   "metadata": {},
   "outputs": [
    {
     "data": {
      "image/png": "[encoded data removed]",
      "text/plain": [
       "<Figure size 800x400 with 1 Axes>"
      ]
     },
     "metadata": {},
     "output_type": "display_data"
    }
   ],
   "source": [
    "import matplotlib.pyplot as plt\n",
    "\n",
    "recall = [1/12, 1/12, 2/12, 3/12, 3/12, 4/12, 5/12, 6/12, 7/12, 8/12]\n",
    "precision = [1, 0.5, 2/3, 0.75, 0.6, 2/3, 5/7, 0.75, 7/9, 0.8]\n",
    "\n",
    "interpolated_precision = [max(precision[i:]) for i in range(len(precision))]\n",
    "interpolated_precision.reverse()\n",
    "\n",
    "# Plot the precision-recall curve\n",
    "plt.figure(figsize=(8, 4))\n",
    "plt.plot(recall, precision, label='Precision-Recall Curve')\n",
    "plt.plot(recall, interpolated_precision, label='Interpolated Precision-Recall Curve', linestyle='--')\n",
    "plt.xlabel('Recall')\n",
    "plt.ylabel('Precision')\n",
    "plt.title('Precision-Recall Curve')\n",
    "plt.legend()\n",
    "plt.show()"
   ]
  },
  {
   "cell_type": "markdown",
   "id": "9b0ed78c",
   "metadata": {},
   "source": [
    "### Simple Calculation"
   ]
  },
  {
   "cell_type": "code",
   "execution_count": 7,
   "id": "5824531b",
   "metadata": {},
   "outputs": [
    {
     "name": "stdout",
     "output_type": "stream",
     "text": [
      "interpolated:  0.8\n"
     ]
    }
   ],
   "source": [
    "docs = ['R', 'I', 'R', 'R', 'I', 'R', 'R', 'R', 'R', 'R']\n",
    "total_relevant = 12\n",
    "target_recall = 0.2\n",
    "\n",
    "relevant = 12\n",
    "target_recall = 0.2\n",
    "\n",
    "precisions_recalls= []\n",
    "count = 0\n",
    "\n",
    "for i, doc in enumerate(docs):\n",
    "    if doc=='R':\n",
    "        count+=1\n",
    "    precision = count / (i + 1)\n",
    "    recall = count / relevant \n",
    "    precisions_recalls.append((precision,recall))\n",
    "\n",
    "interpolated_precision = max(precision for precision,r in precisions_recalls if r >= target_recall)\n",
    "print(\"interpolated: \", interpolated_precision)"
   ]
  },
  {
   "cell_type": "markdown",
   "id": "f1ed37c2",
   "metadata": {},
   "source": [
    "### F1-score at 5 documents retrieved\n",
    "\n",
    "$$F1 \\text{ score} = \\frac{2 \\times \\text{precision} \\times \\text{recall}}{\\text{precision} + \\text{recall}}$$"
   ]
  },
  {
   "cell_type": "code",
   "execution_count": 8,
   "id": "6b1377e7",
   "metadata": {},
   "outputs": [
    {
     "name": "stdout",
     "output_type": "stream",
     "text": [
      "F1 at 5 retrieved is:  0.35294117647058826\n"
     ]
    }
   ],
   "source": [
    "precision_at_5 = 3/5\n",
    "F1_score_at_5 = 2*precision_at_5*recall_at_5/(precision_at_5+recall_at_5)\n",
    "print(\"F1 at 5 retrieved is: \", F1_score_at_5)"
   ]
  },
  {
   "cell_type": "markdown",
   "id": "20d637fc",
   "metadata": {},
   "source": [
    "## 2. ML and NN"
   ]
  },
  {
   "cell_type": "markdown",
   "id": "7f92022f",
   "metadata": {},
   "source": [
    "### Regression Model\n",
    "\n",
    "- $y = \\sigma(\\mathbf{w}^\\top \\mathbf{x} + b)$\n",
    "\n",
    "- $\\sigma(z) = (1 + \\exp(-z))^{-1}$\n",
    "\n",
    "- $\\mathbf{w} = [0.1, -0.2, 0.4]^\\top$\n",
    "\n",
    "If the data is: $[0.2, 0.5, -0.3]^\\top$"
   ]
  },
  {
   "cell_type": "code",
   "execution_count": 9,
   "id": "8867544a",
   "metadata": {},
   "outputs": [
    {
     "name": "stdout",
     "output_type": "stream",
     "text": [
      "predicted possibility:  0.598687660112452\n"
     ]
    }
   ],
   "source": [
    "w = np.array([0.1,-0.2,0.4])\n",
    "x = np.array([0.2,0.5,-0.3])\n",
    "b = 0.6\n",
    "z = np.dot(w,x)+b\n",
    "y = pow((1+math.exp(-z)),-1)\n",
    "print(\"predicted possibility: \", y)"
   ]
  },
  {
   "cell_type": "markdown",
   "id": "b6edddcd",
   "metadata": {},
   "source": [
    "### Pointwise mutual information \n",
    "\n",
    "|       | drive | run | fluffy | broken |\n",
    "|-------|-------|-----|--------|--------|\n",
    "| car   | 27    | 35   | 15      | 8     |\n",
    "| bus   | 2    | 1   | 12      | 17     |\n",
    "| cat   | 10     | 23  | 15     | 4      |\n",
    "| dog   | 1     | 31  | 18     | 2      |\n"
   ]
  },
  {
   "cell_type": "code",
   "execution_count": 10,
   "id": "db5d2feb",
   "metadata": {},
   "outputs": [
    {
     "name": "stdout",
     "output_type": "stream",
     "text": [
      "pmi:  0.24294617861038958\n"
     ]
    }
   ],
   "source": [
    "a = 27+35+15+8\n",
    "b = 2+1+12+17\n",
    "c = 10+23+15+4\n",
    "d = 1+31+18+2\n",
    "total = a+b+c+d\n",
    "p_d = d/total\n",
    "p_f = (15+12+15+18)/total\n",
    "p_df = 18/total\n",
    "pmi = np.log(p_df/(p_d*p_f))\n",
    "print(\"pmi: \", pmi)"
   ]
  }
 ],
 "metadata": {
  "kernelspec": {
   "display_name": "pytorch",
   "language": "python",
   "name": "pytorch"
  },
  "language_info": {
   "codemirror_mode": {
    "name": "ipython",
    "version": 3
   },
   "file_extension": ".py",
   "mimetype": "text/x-python",
   "name": "python",
   "nbconvert_exporter": "python",
   "pygments_lexer": "ipython3",
   "version": "3.9.13"
  }
 },
 "nbformat": 4,
 "nbformat_minor": 5
}

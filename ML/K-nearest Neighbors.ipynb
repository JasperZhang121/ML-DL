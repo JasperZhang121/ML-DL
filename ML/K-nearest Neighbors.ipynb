{
 "cells": [
  {
   "cell_type": "markdown",
   "id": "e99f6c5d",
   "metadata": {},
   "source": [
    "# K-nearest Neighbors\n",
    "\n",
    "\n",
    "A commonly used distance metric for continuous variables is ***Euclidean distance***:\n",
    "\n",
    "$$d(\\mathbf{x}_i, \\mathbf{x}_j) = \\sqrt{\\sum_{k=1}^p (x_{i,k} - x_{j,k})^2}$$\n",
    "\n",
    "The k-NN algorithm is known as a \"lazy learner\" because it doesn't build a model or make generalizations during training. Instead, it memorizes the training data and uses it during classification. This makes it computationally inexpensive during the training phase, but potentially slower during the classification phase as it has to compare the test point to all training points.\n",
    "\n",
    "The training phase in KNN as the algorithm \"remembering\" the locations and labels of the training data points. This allows it to efficiently identify the K nearest neighbors for any new data point without having to recalculate distances from scratch.\n",
    "\n",
    "By using the stored training data, KNN avoids the need for iterative updates or model parameter estimation typically seen in other machine learning algorithms. Instead, it relies on the stored information to make predictions based on the majority class of the K nearest neighbors.\n"
   ]
  },
  {
   "cell_type": "code",
   "execution_count": 7,
   "id": "cb4ee984",
   "metadata": {},
   "outputs": [
    {
     "name": "stdout",
     "output_type": "stream",
     "text": [
      "Accuracy: 1.0\n"
     ]
    }
   ],
   "source": [
    "import numpy as np\n",
    "from sklearn.model_selection import train_test_split\n",
    "from sklearn.neighbors import KNeighborsClassifier\n",
    "from sklearn.metrics import accuracy_score\n",
    "import matplotlib.pyplot as plt\n",
    "\n",
    "# Create synthetic dataset\n",
    "X = np.array([[2.75, 1.25],\n",
    "              [1.85, 1.20],\n",
    "              [3.25, 2.10],\n",
    "              [2.85, 2.45],\n",
    "              [3.45, 2.40],\n",
    "              [4.50, 3.60],\n",
    "              [4.75, 4.00],\n",
    "              [5.25, 4.35],\n",
    "              [5.65, 5.00],\n",
    "              [6.20, 5.50]])\n",
    "y = np.array([0, 0, 0, 0, 0, 1, 1, 1, 1, 1])\n",
    "\n",
    "# Split the data into training and test sets\n",
    "X_train, X_test, y_train, y_test = train_test_split(X, y, test_size=0.2, random_state=42)\n",
    "\n",
    "# Create the K-nearest Neighbors classifier\n",
    "knn = KNeighborsClassifier(n_neighbors=3)\n",
    "\n",
    "# Train the model on the training data\n",
    "knn.fit(X_train, y_train)\n",
    "\n",
    "# Make predictions on the test data\n",
    "y_pred = knn.predict(X_test)\n",
    "\n",
    "# Calculate the accuracy of the model\n",
    "accuracy = accuracy_score(y_test, y_pred)\n",
    "print(\"Accuracy:\", accuracy)\n"
   ]
  },
  {
   "cell_type": "code",
   "execution_count": 8,
   "id": "51262a45",
   "metadata": {},
   "outputs": [
    {
     "data": {
      "image/png": "[encoded data removed]",
      "text/plain": [
       "<Figure size 576x432 with 1 Axes>"
      ]
     },
     "metadata": {
      "needs_background": "light"
     },
     "output_type": "display_data"
    }
   ],
   "source": [
    "from matplotlib.colors import ListedColormap\n",
    "\n",
    "# Plot the data points and decision boundary\n",
    "plt.figure(figsize=(8, 6))\n",
    "cmap = ListedColormap(['red', 'blue'])\n",
    "plt.scatter(X[:, 0], X[:, 1], c=y, cmap=cmap, edgecolors='k')\n",
    "plt.xlabel('X1')\n",
    "plt.ylabel('X2')\n",
    "plt.title('K-nearest Neighbors')\n",
    "h = 0.02  # Step size in the mesh\n",
    "x1_min, x1_max = X[:, 0].min() - 1, X[:, 0].max() + 1\n",
    "x2_min, x2_max = X[:, 1].min() - 1, X[:, 1].max() + 1\n",
    "xx1, xx2 = np.meshgrid(np.arange(x1_min, x1_max, h),\n",
    "                       np.arange(x2_min, x2_max, h))\n",
    "Z = knn.predict(np.c_[xx1.ravel(), xx2.ravel()])\n",
    "Z = Z.reshape(xx1.shape)\n",
    "plt.contourf(xx1, xx2, Z, alpha=0.5, cmap=cmap)\n",
    "plt.show()"
   ]
  }
 ],
 "metadata": {
  "kernelspec": {
   "display_name": "Python 3 (ipykernel)",
   "language": "python",
   "name": "python3"
  },
  "language_info": {
   "codemirror_mode": {
    "name": "ipython",
    "version": 3
   },
   "file_extension": ".py",
   "mimetype": "text/x-python",
   "name": "python",
   "nbconvert_exporter": "python",
   "pygments_lexer": "ipython3",
   "version": "3.9.12"
  }
 },
 "nbformat": 4,
 "nbformat_minor": 5
}

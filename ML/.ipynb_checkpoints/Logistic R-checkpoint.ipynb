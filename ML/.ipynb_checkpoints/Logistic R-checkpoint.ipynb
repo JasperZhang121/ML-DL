{
 "cells": [
  {
   "cell_type": "markdown",
   "id": "04e3172c",
   "metadata": {},
   "source": [
    "# Logistic Regression"
   ]
  },
  {
   "cell_type": "markdown",
   "id": "46398007",
   "metadata": {},
   "source": [
    "---\n",
    "\n",
    "#### Logistic Function (Sigmoid):\n",
    "\n",
    "$$\\sigma(z) = \\frac{1}{1 + e^{-z}}$$\n",
    "\n",
    "The predicted value from the linear regression part (θ^Tx) is passed through the sigmoid function to obtain the predicted probability of the positive class.\n",
    "\n",
    "#### Maximum Likelihood Estimation (MLE）：\n",
    "\n",
    "$$\\text{MLE}(\\theta) = \\prod_{i=1}^{m}h_\\theta(x^{(i)})^{y^{(i)}}(1 - h_\\theta(x^{(i)}))^{1 - y^{(i)}}$$\n",
    "\n",
    "#### Cost Function (Negative Log-Likelihood): \n",
    "$$J(\\theta) = -\\frac{1}{m}\\sum_{i=1}^{m}\\left[y^{(i)}\\log(h_\\theta(x^{(i)})) + (1-y^{(i)})\\log(1 - h_\\theta(x^{(i)}))\\right]$$\n",
    "\n",
    "Minimizing the negative log-likelihood in logistic regression is equivalent to maximizing the likelihood, as both approaches seek to find the parameter values that maximize the probability of observing the true class labels in the training data."
   ]
  },
  {
   "cell_type": "code",
   "execution_count": 1,
   "id": "72752c86",
   "metadata": {},
   "outputs": [
    {
     "name": "stdout",
     "output_type": "stream",
     "text": [
      "Accuracy: 1.0\n"
     ]
    }
   ],
   "source": [
    "import numpy as np\n",
    "import pandas as pd\n",
    "from sklearn.linear_model import LogisticRegression\n",
    "from sklearn.model_selection import train_test_split\n",
    "from sklearn.metrics import accuracy_score\n",
    "\n",
    "# Create the dataset\n",
    "data = pd.DataFrame({\n",
    "    'X1': [2.75, 1.85, 3.25, 2.85, 3.45, 4.50, 4.75, 5.25, 5.65, 6.20],\n",
    "    'X2': [1.25, 1.20, 2.10, 2.45, 2.40, 3.60, 4.00, 4.35, 5.00, 5.50],\n",
    "    'Y': [0, 0, 0, 0, 0, 1, 1, 1, 1, 1]\n",
    "})\n",
    "\n",
    "# Separate features and target\n",
    "X = data[['X1', 'X2']]\n",
    "y = data['Y']\n",
    "\n",
    "# Split the data into training and test sets\n",
    "X_train, X_test, y_train, y_test = train_test_split(X, y, test_size=0.2, random_state=42)\n",
    "\n",
    "# Create the logistic regression model\n",
    "lr_model = LogisticRegression()\n",
    "\n",
    "# Fit the model to the training data\n",
    "lr_model.fit(X_train, y_train)\n",
    "\n",
    "# Make predictions on the test set\n",
    "y_pred = lr_model.predict(X_test)\n",
    "\n",
    "# Calculate accuracy\n",
    "accuracy = accuracy_score(y_test, y_pred)\n",
    "print(\"Accuracy:\", accuracy)\n"
   ]
  },
  {
   "cell_type": "code",
   "execution_count": 8,
   "id": "a7cbacf1",
   "metadata": {
    "scrolled": true
   },
   "outputs": [
    {
     "name": "stderr",
     "output_type": "stream",
     "text": [
      "C:\\Users\\jaspe\\anaconda3\\lib\\site-packages\\sklearn\\base.py:450: UserWarning: X does not have valid feature names, but LogisticRegression was fitted with feature names\n",
      "  warnings.warn(\n"
     ]
    },
    {
     "data": {
      "image/png": "[encoded data removed]",
      "text/plain": [
       "<Figure size 432x288 with 1 Axes>"
      ]
     },
     "metadata": {
      "needs_background": "light"
     },
     "output_type": "display_data"
    }
   ],
   "source": [
    "import matplotlib.pyplot as plt\n",
    "\n",
    "# Plot the data points and decision boundary\n",
    "plt.scatter(data['X1'], data['X2'], c=data['Y'], cmap='coolwarm')  # Plot the data points with different colors based on class label\n",
    "plt.xlabel('X1')  # Set the x-axis label\n",
    "plt.ylabel('X2')  # Set the y-axis label\n",
    "plt.title('Logistic Regression')  # Set the title of the plot\n",
    "\n",
    "# Define the range of the plot\n",
    "x1_min, x1_max = data['X1'].min() - 1, data['X1'].max() + 1  # Minimum and maximum values for X1 with padding\n",
    "x2_min, x2_max = data['X2'].min() - 1, data['X2'].max() + 1  # Minimum and maximum values for X2 with padding\n",
    "\n",
    "# Create a grid of points within the defined range\n",
    "xx1, xx2 = np.meshgrid(np.arange(x1_min, x1_max, 0.01),\n",
    "                       np.arange(x2_min, x2_max, 0.01))\n",
    "\n",
    "# Predict the class labels for each point in the grid\n",
    "Z = lr_model.predict(np.c_[xx1.ravel(), xx2.ravel()])\n",
    "Z = Z.reshape(xx1.shape)\n",
    "\n",
    "# Plot the decision boundary\n",
    "plt.contourf(xx1, xx2, Z, alpha=0.5, cmap='coolwarm')  # Plot filled contour based on predictions\n",
    "plt.show()  # Display the plot\n"
   ]
  }
 ],
 "metadata": {
  "kernelspec": {
   "display_name": "Python 3 (ipykernel)",
   "language": "python",
   "name": "python3"
  },
  "language_info": {
   "codemirror_mode": {
    "name": "ipython",
    "version": 3
   },
   "file_extension": ".py",
   "mimetype": "text/x-python",
   "name": "python",
   "nbconvert_exporter": "python",
   "pygments_lexer": "ipython3",
   "version": "3.9.12"
  }
 },
 "nbformat": 4,
 "nbformat_minor": 5
}

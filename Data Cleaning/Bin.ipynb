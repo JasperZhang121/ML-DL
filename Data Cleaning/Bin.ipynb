{
 "cells": [
  {
   "cell_type": "markdown",
   "id": "e51401b9",
   "metadata": {},
   "source": [
    "### Bins"
   ]
  },
  {
   "cell_type": "code",
   "execution_count": 1,
   "id": "cf030a2b",
   "metadata": {},
   "outputs": [],
   "source": [
    "import statistics\n",
    "import numpy as np\n",
    "from scipy.stats import chi2_contingency"
   ]
  },
  {
   "cell_type": "code",
   "execution_count": 2,
   "id": "73ef4c97",
   "metadata": {},
   "outputs": [],
   "source": [
    "L = [35, 21, 10, 37, 19, 21, 41, 13, 62, 66, 73, 64, 20, 39,58, 72,13,34,33,11]"
   ]
  },
  {
   "cell_type": "markdown",
   "id": "a35a3d9d",
   "metadata": {},
   "source": [
    "### Bin Width"
   ]
  },
  {
   "cell_type": "code",
   "execution_count": 3,
   "id": "cabe2252",
   "metadata": {},
   "outputs": [],
   "source": [
    "def equalWith(lis,numBin):\n",
    "    minNum = min(lis)\n",
    "    w = (max(lis)-min(lis))/numBin\n",
    "    index = 0\n",
    "    upper = minNum+w\n",
    "    temp = []\n",
    "    res = []\n",
    "    while index < len(lis):\n",
    "        if lis[index]<= upper:\n",
    "            temp.append(lis[index])\n",
    "        else:\n",
    "            upper += w\n",
    "            res.append(temp)\n",
    "            temp = [lis[index]]\n",
    "        index+=1\n",
    "    if temp:\n",
    "        res.append(temp)\n",
    "    return res"
   ]
  },
  {
   "cell_type": "code",
   "execution_count": 4,
   "id": "fece8ea0",
   "metadata": {},
   "outputs": [
    {
     "data": {
      "text/plain": [
       "[[10, 11, 13, 13, 19, 20, 21, 21],\n",
       " [33, 34, 35, 37, 39, 41],\n",
       " [58, 62, 64, 66, 72, 73]]"
      ]
     },
     "execution_count": 4,
     "metadata": {},
     "output_type": "execute_result"
    }
   ],
   "source": [
    "L = sorted(L)\n",
    "t32 = equalWith(L,3) # equal with with three bin\n",
    "t32"
   ]
  },
  {
   "cell_type": "code",
   "execution_count": 5,
   "id": "a8aa8263",
   "metadata": {},
   "outputs": [
    {
     "data": {
      "text/plain": [
       "[[16, 16, 16, 16, 16, 16, 16, 16],\n",
       " [36.5, 36.5, 36.5, 36.5, 36.5, 36.5],\n",
       " [65.833333, 65.833333, 65.833333, 65.833333, 65.833333, 65.833333]]"
      ]
     },
     "execution_count": 5,
     "metadata": {},
     "output_type": "execute_result"
    }
   ],
   "source": [
    "## smooth by mean\n",
    "t32_fin = [[round(statistics.mean(x),6) for y in x] for x in t32]\n",
    "t32_fin"
   ]
  },
  {
   "cell_type": "code",
   "execution_count": 6,
   "id": "ead994d7",
   "metadata": {},
   "outputs": [
    {
     "data": {
      "text/plain": [
       "[[10, 11, 13, 13, 19, 20, 21, 21],\n",
       " [33, 34, 35, 37, 39, 41],\n",
       " [58],\n",
       " [62, 64, 66, 72, 73]]"
      ]
     },
     "execution_count": 6,
     "metadata": {},
     "output_type": "execute_result"
    }
   ],
   "source": [
    "t33 = equalWith(L,4)\n",
    "t33"
   ]
  },
  {
   "cell_type": "code",
   "execution_count": 7,
   "id": "78769ba7",
   "metadata": {},
   "outputs": [],
   "source": [
    "def equalWith_Smooth(lis,numBin):\n",
    "    minNum = min(lis)\n",
    "    w = (max(lis)-min(lis))/numBin\n",
    "    index = 0\n",
    "    lower = minNum\n",
    "    upper = minNum+w\n",
    "    temp = []\n",
    "    res = []\n",
    "    while index < len(lis):\n",
    "        if lis[index]<= upper: \n",
    "            if abs(lis[index]-lower)<=abs(lis[index]-upper):\n",
    "                temp.append(lower)\n",
    "            else:\n",
    "                temp.append(upper)\n",
    "        else:\n",
    "            lower = upper\n",
    "            upper += w\n",
    "            res.append(temp) \n",
    "            temp = []\n",
    "            if abs(lis[index]-lower)<=abs(lis[index]-upper):\n",
    "                temp.append(lower)\n",
    "            else:\n",
    "                temp.append(upper)\n",
    "            \n",
    "        index+=1\n",
    "    if temp:\n",
    "        res.append(temp)\n",
    "    return res"
   ]
  },
  {
   "cell_type": "code",
   "execution_count": 8,
   "id": "4d787e0d",
   "metadata": {
    "scrolled": true
   },
   "outputs": [
    {
     "name": "stdout",
     "output_type": "stream",
     "text": [
      "boundaries are:  25.75\n",
      "boundaries are:  41.5\n",
      "boundaries are:  57.25\n"
     ]
    }
   ],
   "source": [
    "weight = (max(L)-min(L))/4\n",
    "\n",
    "for i in range(1,4):\n",
    "    print(\"boundaries are: \", min(L)+i*weight)"
   ]
  },
  {
   "cell_type": "code",
   "execution_count": 9,
   "id": "befb29ff",
   "metadata": {
    "scrolled": true
   },
   "outputs": [
    {
     "data": {
      "text/plain": [
       "[[10, 11, 13, 13, 19, 20, 21, 21],\n",
       " [33, 34, 35, 37, 39, 41],\n",
       " [58],\n",
       " [62, 64, 66, 72, 73]]"
      ]
     },
     "execution_count": 9,
     "metadata": {},
     "output_type": "execute_result"
    }
   ],
   "source": [
    "equalWith(L,4)"
   ]
  },
  {
   "cell_type": "code",
   "execution_count": 10,
   "id": "1e6a459b",
   "metadata": {},
   "outputs": [
    {
     "data": {
      "text/plain": [
       "[[10, 10, 10, 10, 25.75, 25.75, 25.75, 25.75],\n",
       " [25.75, 41.5, 41.5, 41.5, 41.5, 41.5],\n",
       " [57.25],\n",
       " [57.25, 57.25, 73.0, 73.0, 73.0]]"
      ]
     },
     "execution_count": 10,
     "metadata": {},
     "output_type": "execute_result"
    }
   ],
   "source": [
    "equalWith_Smooth(L,4)"
   ]
  },
  {
   "cell_type": "markdown",
   "id": "49c94c0b",
   "metadata": {},
   "source": [
    "### Bin Depth"
   ]
  },
  {
   "cell_type": "code",
   "execution_count": 11,
   "id": "a5d40e5a",
   "metadata": {},
   "outputs": [],
   "source": [
    "def EqualDepth(lis,numBin):\n",
    "    leng = len(lis)//numBin\n",
    "    temp = []\n",
    "    res = []\n",
    "    \n",
    "    for i in range(len(lis)):\n",
    "        if len(temp) == leng:\n",
    "            mint = min(temp)\n",
    "            maxt = max(temp)\n",
    "            j = 0\n",
    "            for x in temp:\n",
    "                if abs(x-mint)<=abs(x-maxt):\n",
    "                    temp[j] = mint\n",
    "                else:\n",
    "                    temp[j] = maxt\n",
    "                j+=1\n",
    "            res.append(temp)\n",
    "            temp = [lis[i]]\n",
    "        else:\n",
    "            temp.append(lis[i])\n",
    "    if temp:\n",
    "        j=0\n",
    "        mint = min(temp)\n",
    "        maxt = max(temp)\n",
    "        for x in temp:\n",
    "                if abs(x-mint)<=abs(x-maxt):\n",
    "                    temp[j] = mint\n",
    "                else:\n",
    "                    temp[j] = maxt\n",
    "                j+=1\n",
    "        res.append(temp)\n",
    "    return res"
   ]
  },
  {
   "cell_type": "code",
   "execution_count": 12,
   "id": "15cb70ad",
   "metadata": {
    "scrolled": true
   },
   "outputs": [
    {
     "data": {
      "text/plain": [
       "[[10, 10, 10, 10, 19],\n",
       " [20, 20, 20, 34, 34],\n",
       " [35, 35, 35, 35, 58],\n",
       " [62, 62, 62, 73, 73]]"
      ]
     },
     "execution_count": 12,
     "metadata": {},
     "output_type": "execute_result"
    }
   ],
   "source": [
    "EqualDepth(L,4)"
   ]
  },
  {
   "cell_type": "markdown",
   "id": "7846536e",
   "metadata": {},
   "source": [
    "# Data Analysis"
   ]
  },
  {
   "cell_type": "code",
   "execution_count": 13,
   "id": "ff078fb5",
   "metadata": {},
   "outputs": [],
   "source": [
    "import pandas as pd"
   ]
  },
  {
   "cell_type": "code",
   "execution_count": 14,
   "id": "58a62103",
   "metadata": {},
   "outputs": [],
   "source": [
    "df = pd.read_csv(\"medical.csv\")"
   ]
  },
  {
   "cell_type": "code",
   "execution_count": 15,
   "id": "fdcb3f88",
   "metadata": {},
   "outputs": [
    {
     "data": {
      "text/html": [
       "<div>\n",
       "<style scoped>\n",
       "    .dataframe tbody tr th:only-of-type {\n",
       "        vertical-align: middle;\n",
       "    }\n",
       "\n",
       "    .dataframe tbody tr th {\n",
       "        vertical-align: top;\n",
       "    }\n",
       "\n",
       "    .dataframe thead th {\n",
       "        text-align: right;\n",
       "    }\n",
       "</style>\n",
       "<table border=\"1\" class=\"dataframe\">\n",
       "  <thead>\n",
       "    <tr style=\"text-align: right;\">\n",
       "      <th></th>\n",
       "      <th>rec_id</th>\n",
       "      <th>ssn</th>\n",
       "      <th>first_name</th>\n",
       "      <th>middle_name</th>\n",
       "      <th>last_name</th>\n",
       "      <th>gender</th>\n",
       "      <th>age_at_consultation</th>\n",
       "      <th>birth_date</th>\n",
       "      <th>medicare_number</th>\n",
       "      <th>street_address</th>\n",
       "      <th>...</th>\n",
       "      <th>email</th>\n",
       "      <th>marital_status</th>\n",
       "      <th>height</th>\n",
       "      <th>weight</th>\n",
       "      <th>bmi</th>\n",
       "      <th>blood_pressure</th>\n",
       "      <th>cholesterol_level</th>\n",
       "      <th>smoking_status</th>\n",
       "      <th>clinical_notes</th>\n",
       "      <th>consultation_timestamp</th>\n",
       "    </tr>\n",
       "  </thead>\n",
       "  <tbody>\n",
       "    <tr>\n",
       "      <th>0</th>\n",
       "      <td>rec-72650</td>\n",
       "      <td>g133553277</td>\n",
       "      <td>jay</td>\n",
       "      <td>lewis</td>\n",
       "      <td>ramsey</td>\n",
       "      <td>f</td>\n",
       "      <td>61</td>\n",
       "      <td>27/2/1953</td>\n",
       "      <td>1022  46547  2  2</td>\n",
       "      <td>275  east  arm  road  kananda</td>\n",
       "      <td>...</td>\n",
       "      <td>ibijbqfmmk@mail.com.au</td>\n",
       "      <td>married</td>\n",
       "      <td>188</td>\n",
       "      <td>124</td>\n",
       "      <td>35</td>\n",
       "      <td>75</td>\n",
       "      <td>283</td>\n",
       "      <td>1</td>\n",
       "      <td>forehead-laceration</td>\n",
       "      <td>2014-03-14t07:08+00:00</td>\n",
       "    </tr>\n",
       "    <tr>\n",
       "      <th>1</th>\n",
       "      <td>rec-92184</td>\n",
       "      <td>f147122774</td>\n",
       "      <td>enrico</td>\n",
       "      <td>james</td>\n",
       "      <td>crowder</td>\n",
       "      <td>f</td>\n",
       "      <td>54</td>\n",
       "      <td>13/2/1961</td>\n",
       "      <td>1313  62527  2  1</td>\n",
       "      <td>172  riley  street  apt  710</td>\n",
       "      <td>...</td>\n",
       "      <td>NaN</td>\n",
       "      <td>married</td>\n",
       "      <td>180</td>\n",
       "      <td>122</td>\n",
       "      <td>37</td>\n",
       "      <td>75</td>\n",
       "      <td>142</td>\n",
       "      <td>0</td>\n",
       "      <td>urinary-frequency</td>\n",
       "      <td>2015-01-20t01:07+00:00</td>\n",
       "    </tr>\n",
       "    <tr>\n",
       "      <th>2</th>\n",
       "      <td>rec-1678</td>\n",
       "      <td>b148374977</td>\n",
       "      <td>marina</td>\n",
       "      <td>w</td>\n",
       "      <td>gore</td>\n",
       "      <td>f</td>\n",
       "      <td>59</td>\n",
       "      <td>2/9/1955</td>\n",
       "      <td>1195  67342  1  2</td>\n",
       "      <td>250  the  hatch  road  pilliga</td>\n",
       "      <td>...</td>\n",
       "      <td>tbcnmjefsf@mail.com</td>\n",
       "      <td>married</td>\n",
       "      <td>177</td>\n",
       "      <td>-99</td>\n",
       "      <td>30</td>\n",
       "      <td>73</td>\n",
       "      <td>95</td>\n",
       "      <td>0</td>\n",
       "      <td>watery-eyes</td>\n",
       "      <td>2014-12-21t23:56+00:00</td>\n",
       "    </tr>\n",
       "    <tr>\n",
       "      <th>3</th>\n",
       "      <td>rec-15841</td>\n",
       "      <td>h170455232</td>\n",
       "      <td>jerry</td>\n",
       "      <td>winson</td>\n",
       "      <td>ward</td>\n",
       "      <td>m</td>\n",
       "      <td>23</td>\n",
       "      <td>21/3/1993</td>\n",
       "      <td>5017  24775  2  3</td>\n",
       "      <td>18  atoli  rise  pacific  pines</td>\n",
       "      <td>...</td>\n",
       "      <td>ward.jerry@gmail.com</td>\n",
       "      <td>married</td>\n",
       "      <td>195</td>\n",
       "      <td>86</td>\n",
       "      <td>22</td>\n",
       "      <td>75</td>\n",
       "      <td>174</td>\n",
       "      <td>0</td>\n",
       "      <td>anxiety</td>\n",
       "      <td>2016-04-18t06:13+00:00</td>\n",
       "    </tr>\n",
       "    <tr>\n",
       "      <th>4</th>\n",
       "      <td>rec-7412</td>\n",
       "      <td>g155552142</td>\n",
       "      <td>melissa</td>\n",
       "      <td>marie</td>\n",
       "      <td>overstreet</td>\n",
       "      <td>f</td>\n",
       "      <td>33</td>\n",
       "      <td>16/11/1983</td>\n",
       "      <td>8445  91110  2  1</td>\n",
       "      <td>868  old  calder  highway  keilor  retirement...</td>\n",
       "      <td>...</td>\n",
       "      <td>NaN</td>\n",
       "      <td>married-de-facto</td>\n",
       "      <td>177</td>\n",
       "      <td>114</td>\n",
       "      <td>36</td>\n",
       "      <td>70</td>\n",
       "      <td>81</td>\n",
       "      <td>1</td>\n",
       "      <td>stomach-virus</td>\n",
       "      <td>2016-12-05t13:56+00:00</td>\n",
       "    </tr>\n",
       "  </tbody>\n",
       "</table>\n",
       "<p>5 rows × 24 columns</p>\n",
       "</div>"
      ],
      "text/plain": [
       "      rec_id         ssn first_name middle_name   last_name gender  \\\n",
       "0  rec-72650  g133553277        jay       lewis      ramsey      f   \n",
       "1  rec-92184  f147122774     enrico       james     crowder      f   \n",
       "2   rec-1678  b148374977     marina           w        gore      f   \n",
       "3  rec-15841  h170455232      jerry      winson        ward      m   \n",
       "4   rec-7412  g155552142    melissa       marie  overstreet      f   \n",
       "\n",
       "   age_at_consultation  birth_date      medicare_number  \\\n",
       "0                   61   27/2/1953   1022  46547  2  2    \n",
       "1                   54   13/2/1961   1313  62527  2  1    \n",
       "2                   59    2/9/1955   1195  67342  1  2    \n",
       "3                   23   21/3/1993   5017  24775  2  3    \n",
       "4                   33  16/11/1983   8445  91110  2  1    \n",
       "\n",
       "                                      street_address  ...  \\\n",
       "0                     275  east  arm  road  kananda   ...   \n",
       "1                      172  riley  street  apt  710   ...   \n",
       "2                    250  the  hatch  road  pilliga   ...   \n",
       "3                   18  atoli  rise  pacific  pines   ...   \n",
       "4   868  old  calder  highway  keilor  retirement...  ...   \n",
       "\n",
       "                    email    marital_status height weight bmi blood_pressure  \\\n",
       "0  ibijbqfmmk@mail.com.au           married    188    124  35             75   \n",
       "1                     NaN           married    180    122  37             75   \n",
       "2     tbcnmjefsf@mail.com           married    177    -99  30             73   \n",
       "3    ward.jerry@gmail.com           married    195     86  22             75   \n",
       "4                     NaN  married-de-facto    177    114  36             70   \n",
       "\n",
       "   cholesterol_level  smoking_status       clinical_notes  \\\n",
       "0                283               1  forehead-laceration   \n",
       "1                142               0    urinary-frequency   \n",
       "2                 95               0          watery-eyes   \n",
       "3                174               0              anxiety   \n",
       "4                 81               1        stomach-virus   \n",
       "\n",
       "   consultation_timestamp  \n",
       "0  2014-03-14t07:08+00:00  \n",
       "1  2015-01-20t01:07+00:00  \n",
       "2  2014-12-21t23:56+00:00  \n",
       "3  2016-04-18t06:13+00:00  \n",
       "4  2016-12-05t13:56+00:00  \n",
       "\n",
       "[5 rows x 24 columns]"
      ]
     },
     "execution_count": 15,
     "metadata": {},
     "output_type": "execute_result"
    }
   ],
   "source": [
    "df.head()"
   ]
  },
  {
   "cell_type": "markdown",
   "id": "0d0aeba0",
   "metadata": {},
   "source": [
    "#### Paterns"
   ]
  },
  {
   "cell_type": "code",
   "execution_count": 16,
   "id": "61f05c54",
   "metadata": {
    "scrolled": false
   },
   "outputs": [
    {
     "name": "stdout",
     "output_type": "stream",
     "text": [
      "   postcode  phone  email  Counts\n",
      "0         0      0      0     484\n",
      "1         0      0      1    1140\n",
      "2         0      1      0     704\n",
      "3         0      1      1    1643\n",
      "4         1      0      0    1961\n",
      "5         1      0      1    4391\n",
      "6         1      1      0    2866\n",
      "7         1      1      1    6811\n"
     ]
    }
   ],
   "source": [
    "# Generate a dataframe with 0 for missing and 1 for present values for the three columns\n",
    "missingness = df[['postcode', 'phone', 'email']].notnull().astype('int')\n",
    "\n",
    "# Group by unique rows and count occurrences to identify patterns\n",
    "pattern_counts = missingness.groupby(['postcode', 'phone', 'email']).size().reset_index(name='Counts')\n",
    "\n",
    "print(pattern_counts)"
   ]
  },
  {
   "cell_type": "markdown",
   "id": "ea343291",
   "metadata": {},
   "source": [
    "### Missing"
   ]
  },
  {
   "cell_type": "code",
   "execution_count": 17,
   "id": "d2b628a6",
   "metadata": {},
   "outputs": [
    {
     "name": "stdout",
     "output_type": "stream",
     "text": [
      "0.25\n"
     ]
    }
   ],
   "source": [
    "# Calculate Pearson's correlation coefficient\n",
    "correlation_value = df['bmi'].corr(df['age_at_consultation'])\n",
    "\n",
    "# Print the correlation value rounded to two decimal places\n",
    "print(round(correlation_value, 2))"
   ]
  },
  {
   "cell_type": "code",
   "execution_count": 18,
   "id": "a393b8a7",
   "metadata": {
    "scrolled": true
   },
   "outputs": [
    {
     "data": {
      "text/html": [
       "<div>\n",
       "<style scoped>\n",
       "    .dataframe tbody tr th:only-of-type {\n",
       "        vertical-align: middle;\n",
       "    }\n",
       "\n",
       "    .dataframe tbody tr th {\n",
       "        vertical-align: top;\n",
       "    }\n",
       "\n",
       "    .dataframe thead th {\n",
       "        text-align: right;\n",
       "    }\n",
       "</style>\n",
       "<table border=\"1\" class=\"dataframe\">\n",
       "  <thead>\n",
       "    <tr style=\"text-align: right;\">\n",
       "      <th></th>\n",
       "      <th>age_at_consultation</th>\n",
       "      <th>postcode</th>\n",
       "      <th>height</th>\n",
       "      <th>weight</th>\n",
       "      <th>bmi</th>\n",
       "      <th>blood_pressure</th>\n",
       "      <th>cholesterol_level</th>\n",
       "      <th>smoking_status</th>\n",
       "    </tr>\n",
       "  </thead>\n",
       "  <tbody>\n",
       "    <tr>\n",
       "      <th>age_at_consultation</th>\n",
       "      <td>1.000000</td>\n",
       "      <td>0.005286</td>\n",
       "      <td>0.530255</td>\n",
       "      <td>0.199850</td>\n",
       "      <td>0.253058</td>\n",
       "      <td>0.043564</td>\n",
       "      <td>-0.005343</td>\n",
       "      <td>0.077423</td>\n",
       "    </tr>\n",
       "    <tr>\n",
       "      <th>postcode</th>\n",
       "      <td>0.005286</td>\n",
       "      <td>1.000000</td>\n",
       "      <td>0.018540</td>\n",
       "      <td>0.001319</td>\n",
       "      <td>-0.005541</td>\n",
       "      <td>0.005431</td>\n",
       "      <td>-0.015539</td>\n",
       "      <td>-0.000195</td>\n",
       "    </tr>\n",
       "    <tr>\n",
       "      <th>height</th>\n",
       "      <td>0.530255</td>\n",
       "      <td>0.018540</td>\n",
       "      <td>1.000000</td>\n",
       "      <td>0.253186</td>\n",
       "      <td>0.137161</td>\n",
       "      <td>0.026161</td>\n",
       "      <td>-0.007193</td>\n",
       "      <td>0.105651</td>\n",
       "    </tr>\n",
       "    <tr>\n",
       "      <th>weight</th>\n",
       "      <td>0.199850</td>\n",
       "      <td>0.001319</td>\n",
       "      <td>0.253186</td>\n",
       "      <td>1.000000</td>\n",
       "      <td>0.390436</td>\n",
       "      <td>0.014561</td>\n",
       "      <td>-0.009506</td>\n",
       "      <td>0.052296</td>\n",
       "    </tr>\n",
       "    <tr>\n",
       "      <th>bmi</th>\n",
       "      <td>0.253058</td>\n",
       "      <td>-0.005541</td>\n",
       "      <td>0.137161</td>\n",
       "      <td>0.390436</td>\n",
       "      <td>1.000000</td>\n",
       "      <td>0.021735</td>\n",
       "      <td>-0.007764</td>\n",
       "      <td>0.045618</td>\n",
       "    </tr>\n",
       "    <tr>\n",
       "      <th>blood_pressure</th>\n",
       "      <td>0.043564</td>\n",
       "      <td>0.005431</td>\n",
       "      <td>0.026161</td>\n",
       "      <td>0.014561</td>\n",
       "      <td>0.021735</td>\n",
       "      <td>1.000000</td>\n",
       "      <td>0.010511</td>\n",
       "      <td>0.008379</td>\n",
       "    </tr>\n",
       "    <tr>\n",
       "      <th>cholesterol_level</th>\n",
       "      <td>-0.005343</td>\n",
       "      <td>-0.015539</td>\n",
       "      <td>-0.007193</td>\n",
       "      <td>-0.009506</td>\n",
       "      <td>-0.007764</td>\n",
       "      <td>0.010511</td>\n",
       "      <td>1.000000</td>\n",
       "      <td>0.004033</td>\n",
       "    </tr>\n",
       "    <tr>\n",
       "      <th>smoking_status</th>\n",
       "      <td>0.077423</td>\n",
       "      <td>-0.000195</td>\n",
       "      <td>0.105651</td>\n",
       "      <td>0.052296</td>\n",
       "      <td>0.045618</td>\n",
       "      <td>0.008379</td>\n",
       "      <td>0.004033</td>\n",
       "      <td>1.000000</td>\n",
       "    </tr>\n",
       "  </tbody>\n",
       "</table>\n",
       "</div>"
      ],
      "text/plain": [
       "                     age_at_consultation  postcode    height    weight  \\\n",
       "age_at_consultation             1.000000  0.005286  0.530255  0.199850   \n",
       "postcode                        0.005286  1.000000  0.018540  0.001319   \n",
       "height                          0.530255  0.018540  1.000000  0.253186   \n",
       "weight                          0.199850  0.001319  0.253186  1.000000   \n",
       "bmi                             0.253058 -0.005541  0.137161  0.390436   \n",
       "blood_pressure                  0.043564  0.005431  0.026161  0.014561   \n",
       "cholesterol_level              -0.005343 -0.015539 -0.007193 -0.009506   \n",
       "smoking_status                  0.077423 -0.000195  0.105651  0.052296   \n",
       "\n",
       "                          bmi  blood_pressure  cholesterol_level  \\\n",
       "age_at_consultation  0.253058        0.043564          -0.005343   \n",
       "postcode            -0.005541        0.005431          -0.015539   \n",
       "height               0.137161        0.026161          -0.007193   \n",
       "weight               0.390436        0.014561          -0.009506   \n",
       "bmi                  1.000000        0.021735          -0.007764   \n",
       "blood_pressure       0.021735        1.000000           0.010511   \n",
       "cholesterol_level   -0.007764        0.010511           1.000000   \n",
       "smoking_status       0.045618        0.008379           0.004033   \n",
       "\n",
       "                     smoking_status  \n",
       "age_at_consultation        0.077423  \n",
       "postcode                  -0.000195  \n",
       "height                     0.105651  \n",
       "weight                     0.052296  \n",
       "bmi                        0.045618  \n",
       "blood_pressure             0.008379  \n",
       "cholesterol_level          0.004033  \n",
       "smoking_status             1.000000  "
      ]
     },
     "execution_count": 18,
     "metadata": {},
     "output_type": "execute_result"
    }
   ],
   "source": [
    "df.corr()"
   ]
  },
  {
   "cell_type": "code",
   "execution_count": 19,
   "id": "7e32c72e",
   "metadata": {},
   "outputs": [
    {
     "name": "stdout",
     "output_type": "stream",
     "text": [
      "categrorical corr:  0.02\n"
     ]
    }
   ],
   "source": [
    "import scipy.stats as ss\n",
    "\n",
    "# create the contingency table\n",
    "contingency_table = pd.crosstab(df['state'], df['marital_status'])\n",
    "\n",
    "# calculate the chi-square test statistic\n",
    "chi2, _, _, _ = ss.chi2_contingency(contingency_table)\n",
    "\n",
    "# calculate the minimum of the number of categories in the two variables\n",
    "min_categories = min(contingency_table.shape[0], contingency_table.shape[1])\n",
    "\n",
    "# calculate Cramer's V coefficient\n",
    "n = contingency_table.sum().sum()\n",
    "V = np.sqrt(chi2 / (n * (min_categories - 1)))\n",
    "print(\"categrorical corr: \", round(V,2))"
   ]
  },
  {
   "cell_type": "markdown",
   "id": "c64dab5b",
   "metadata": {},
   "source": [
    "#### Completeness"
   ]
  },
  {
   "cell_type": "code",
   "execution_count": 20,
   "id": "0bc115f8",
   "metadata": {
    "scrolled": true
   },
   "outputs": [
    {
     "name": "stdout",
     "output_type": "stream",
     "text": [
      "Middle Name Completeness: 90.06%\n",
      "Email Completeness: 69.92%\n"
     ]
    }
   ],
   "source": [
    "# Completeness for middle name\n",
    "middle_name_completeness = (df['middle_name'].notna().sum() / len(df)) * 100\n",
    "\n",
    "# Completeness for email\n",
    "email_completeness = (df['email'].notna().sum() / len(df)) * 100\n",
    "\n",
    "print(f\"Middle Name Completeness: {round(middle_name_completeness, 2)}%\")\n",
    "print(f\"Email Completeness: {round(email_completeness, 2)}%\")"
   ]
  },
  {
   "cell_type": "code",
   "execution_count": 21,
   "id": "e69338ac",
   "metadata": {},
   "outputs": [
    {
     "data": {
      "text/plain": [
       "18012"
      ]
     },
     "execution_count": 21,
     "metadata": {},
     "output_type": "execute_result"
    }
   ],
   "source": [
    "df['middle_name'].notna().sum()"
   ]
  },
  {
   "cell_type": "markdown",
   "id": "a3670ee8",
   "metadata": {},
   "source": [
    "#### Validity"
   ]
  },
  {
   "cell_type": "code",
   "execution_count": 22,
   "id": "2916542f",
   "metadata": {},
   "outputs": [
    {
     "name": "stdout",
     "output_type": "stream",
     "text": [
      "Weight Validity: 89.98%\n",
      "Email Validity: 85.71%\n"
     ]
    }
   ],
   "source": [
    "# Validity for weight (assuming positive values are valid)\n",
    "weight_validity = (df[df['weight'] > 0]['weight'].count() / df['weight'].notna().sum()) * 100\n",
    "\n",
    "# Validity for email (checking for '@' symbol)\n",
    "email_validity = (df[df['email'].str.contains('@', na=False)]['email'].count() / df['email'].notna().sum()) * 100\n",
    "\n",
    "print(f\"Weight Validity: {round(weight_validity, 2)}%\")\n",
    "print(f\"Email Validity: {round(email_validity, 2)}%\")"
   ]
  },
  {
   "cell_type": "markdown",
   "id": "506ecceb",
   "metadata": {},
   "source": [
    "#### Uniqueness"
   ]
  },
  {
   "cell_type": "code",
   "execution_count": 23,
   "id": "8eeb0d3a",
   "metadata": {
    "scrolled": true
   },
   "outputs": [
    {
     "name": "stdout",
     "output_type": "stream",
     "text": [
      "First Name Uniqueness: 18.65%\n"
     ]
    }
   ],
   "source": [
    "# Uniqueness for first name\n",
    "first_name_uniqueness = (df['first_name'].nunique() / len(df)) * 100\n",
    "\n",
    "print(f\"First Name Uniqueness: {round(first_name_uniqueness, 2)}%\")"
   ]
  },
  {
   "cell_type": "code",
   "execution_count": 24,
   "id": "838d373b",
   "metadata": {},
   "outputs": [
    {
     "data": {
      "text/plain": [
       "18.65"
      ]
     },
     "execution_count": 24,
     "metadata": {},
     "output_type": "execute_result"
    }
   ],
   "source": [
    "# Filter out blank values (assuming NaN or empty strings as blanks)\n",
    "non_blank_df = df[df['first_name'].notna() & (df['first_name'] != '')]\n",
    "\n",
    "# Calculate the uniqueness percentage excluding blanks\n",
    "first_name_uniqueness_x = (non_blank_df['first_name'].nunique() / len(non_blank_df)) * 100\n",
    "first_name_uniqueness_x"
   ]
  },
  {
   "cell_type": "code",
   "execution_count": 25,
   "id": "2b937da4",
   "metadata": {},
   "outputs": [
    {
     "data": {
      "text/plain": [
       "20000"
      ]
     },
     "execution_count": 25,
     "metadata": {},
     "output_type": "execute_result"
    }
   ],
   "source": [
    "len(df[df['first_name'].notna()])"
   ]
  },
  {
   "cell_type": "code",
   "execution_count": 26,
   "id": "b6d7525b",
   "metadata": {},
   "outputs": [
    {
     "data": {
      "text/plain": [
       "3730"
      ]
     },
     "execution_count": 26,
     "metadata": {},
     "output_type": "execute_result"
    }
   ],
   "source": [
    "non_blank_df['first_name'].nunique()"
   ]
  },
  {
   "cell_type": "code",
   "execution_count": 27,
   "id": "38dd2934",
   "metadata": {},
   "outputs": [
    {
     "data": {
      "text/plain": [
       "0.1865"
      ]
     },
     "execution_count": 27,
     "metadata": {},
     "output_type": "execute_result"
    }
   ],
   "source": [
    "non_blank_df['first_name'].nunique() / len(non_blank_df)"
   ]
  },
  {
   "cell_type": "markdown",
   "id": "faf8a2a2",
   "metadata": {},
   "source": [
    "#### Consistency"
   ]
  },
  {
   "cell_type": "code",
   "execution_count": 28,
   "id": "44fa411a",
   "metadata": {},
   "outputs": [
    {
     "data": {
      "text/plain": [
       "0       2014-03-14\n",
       "1       2015-01-20\n",
       "2       2014-12-21\n",
       "3       2016-04-18\n",
       "4       2016-12-05\n",
       "           ...    \n",
       "19995   2011-06-09\n",
       "19996   2013-04-26\n",
       "19997   2020-05-04\n",
       "19998   2015-08-12\n",
       "19999   2015-04-07\n",
       "Name: consultation_timestamp, Length: 20000, dtype: datetime64[ns]"
      ]
     },
     "execution_count": 28,
     "metadata": {},
     "output_type": "execute_result"
    }
   ],
   "source": [
    "pd.to_datetime(df['consultation_timestamp'].str.split('t').str[0])"
   ]
  },
  {
   "cell_type": "code",
   "execution_count": 29,
   "id": "2e11aa70",
   "metadata": {},
   "outputs": [
    {
     "name": "stdout",
     "output_type": "stream",
     "text": [
      "Consistency rate: 89.95%\n"
     ]
    }
   ],
   "source": [
    "# Convert birth_date and consultation_timestamp to datetime format\n",
    "df['birth_date'] = pd.to_datetime(df['birth_date'], format='%d/%m/%Y')\n",
    "df['consultation_timestamp'] = pd.to_datetime(df['consultation_timestamp'].str.split('t').str[0])\n",
    "\n",
    "# Extract the year from 'consultation_timestamp' and 'birth_date'\n",
    "df['consultation_year'] = df['consultation_timestamp'].dt.year\n",
    "df['birth_year'] = df['birth_date'].dt.year\n",
    "\n",
    "# Calculate expected age at consultation\n",
    "df['expected_age'] = df['consultation_year'] - df['birth_year']\n",
    "\n",
    "# Calculate consistency: 1 for consistent, 0 for inconsistent\n",
    "df['consistency'] = (df['age_at_consultation'] == df['expected_age']).astype(int)\n",
    "\n",
    "# Calculate consistency rate\n",
    "consistency_rate = df['consistency'].mean() * 100\n",
    "print(f\"Consistency rate: {consistency_rate:.2f}%\")"
   ]
  },
  {
   "cell_type": "markdown",
   "id": "4525562d",
   "metadata": {},
   "source": [
    "#### Distribution"
   ]
  },
  {
   "cell_type": "code",
   "execution_count": 30,
   "id": "61a37680",
   "metadata": {},
   "outputs": [
    {
     "data": {
      "text/plain": [
       "0        10224654722\n",
       "1        13136252721\n",
       "2        11956734212\n",
       "3        50172477523\n",
       "4        84459111021\n",
       "            ...     \n",
       "19995    12714369822\n",
       "19996    92239591413\n",
       "19997    82597274012\n",
       "19998    16183293823\n",
       "19999    77255140511\n",
       "Name: medicare_number, Length: 20000, dtype: object"
      ]
     },
     "execution_count": 30,
     "metadata": {},
     "output_type": "execute_result"
    }
   ],
   "source": [
    "# Cleaning medicare_number column\n",
    "df['medicare_number'].str.replace(r'\\D', '', regex=True).astype(str)"
   ]
  },
  {
   "cell_type": "code",
   "execution_count": 31,
   "id": "65ae1cbb",
   "metadata": {},
   "outputs": [],
   "source": [
    "def extract_first_digit(n):\n",
    "    try:\n",
    "        return int(str(n)[0])\n",
    "    except ValueError:\n",
    "        return None\n",
    "\n",
    "def benford_percentage(digit):\n",
    "    return np.log10(1 + 1/digit) * 100\n",
    "\n",
    "df['cholesterol_first_digit'] = df['cholesterol_level'].dropna().apply(extract_first_digit)\n",
    "df['blood_pressure_first_digit'] = df['blood_pressure'].dropna().apply(extract_first_digit)\n",
    "df['medicare_first_digit'] = df['medicare_number'].str.replace(\" \", \"\").dropna().apply(extract_first_digit)  # removing spaces to get the actual first digit\n",
    "\n",
    "cholesterol_distribution = df['cholesterol_first_digit'].value_counts(normalize=True).sort_index() * 100\n",
    "blood_pressure_distribution = df['blood_pressure_first_digit'].value_counts(normalize=True).sort_index() * 100\n",
    "medicare_distribution = df['medicare_first_digit'].value_counts(normalize=True).sort_index() * 100"
   ]
  },
  {
   "cell_type": "code",
   "execution_count": 32,
   "id": "c3f7cd86",
   "metadata": {},
   "outputs": [],
   "source": [
    "benford = [benford_percentage(i) for i in range(1,10)]"
   ]
  },
  {
   "cell_type": "code",
   "execution_count": 33,
   "id": "a97670d5",
   "metadata": {},
   "outputs": [
    {
     "name": "stdout",
     "output_type": "stream",
     "text": [
      "The distribution of the first digits for cholesterol level does not follow Benford's law.\n",
      "The distribution of the first digits for blood pressure does not follow Benford's law.\n",
      "The distribution of the first digits for medicare number does not follow Benford's law.\n"
     ]
    }
   ],
   "source": [
    "def describe_distribution(distribution, attribute_name):\n",
    "    # Ensure distribution only contains values for digits 1-9\n",
    "    aligned_distribution = [distribution.get(i, 0) for i in range(1, 10)]\n",
    "    diff = np.array(aligned_distribution) - np.array(benford)\n",
    "    \n",
    "    if abs(diff).sum() < 15:  # a somewhat arbitrary threshold\n",
    "        return f\"The distribution of the first digits for {attribute_name} seems to follow Benford's law.\"\n",
    "    else:\n",
    "        return f\"The distribution of the first digits for {attribute_name} does not follow Benford's law.\"\n",
    "\n",
    "print(describe_distribution(cholesterol_distribution, 'cholesterol level'))\n",
    "print(describe_distribution(blood_pressure_distribution, 'blood pressure'))\n",
    "print(describe_distribution(medicare_distribution, 'medicare number'))"
   ]
  },
  {
   "cell_type": "code",
   "execution_count": 34,
   "id": "66373ef9",
   "metadata": {},
   "outputs": [
    {
     "data": {
      "image/png": "[encoded data removed]",
      "text/plain": [
       "<Figure size 432x288 with 1 Axes>"
      ]
     },
     "metadata": {
      "needs_background": "light"
     },
     "output_type": "display_data"
    },
    {
     "data": {
      "image/png": "[encoded data removed]",
      "text/plain": [
       "<Figure size 432x288 with 1 Axes>"
      ]
     },
     "metadata": {
      "needs_background": "light"
     },
     "output_type": "display_data"
    },
    {
     "data": {
      "image/png": "[encoded data removed]",
      "text/plain": [
       "<Figure size 432x288 with 1 Axes>"
      ]
     },
     "metadata": {
      "needs_background": "light"
     },
     "output_type": "display_data"
    }
   ],
   "source": [
    "import matplotlib.pyplot as plt\n",
    "\n",
    "def plot_distribution(distribution, attribute_name):\n",
    "    # Expected Benford's Law percentages for leading digits 1-9\n",
    "    benford = [30.1, 17.6, 12.5, 9.7, 7.9, 6.7, 5.8, 5.1, 4.6]\n",
    "    \n",
    "    fig, ax = plt.subplots()\n",
    "\n",
    "    # Plotting expected Benford distribution\n",
    "    ax.bar(range(1,10), benford, alpha=0.7, label=\"Benford's Law\")\n",
    "\n",
    "    # Plotting the observed distribution\n",
    "    distribution = distribution.sort_index() # Ensuring the index is sorted\n",
    "    ax.bar(distribution.index, distribution.values, alpha=0.7, width=0.4, align='center', label='Observed Data')\n",
    "\n",
    "    ax.set_xlabel('Leading Digit')\n",
    "    ax.set_ylabel('Percentage')\n",
    "    ax.set_title(f'Distribution Comparison for {attribute_name}')\n",
    "    ax.legend()\n",
    "\n",
    "    plt.show()\n",
    "\n",
    "# Plotting for each attribute\n",
    "plot_distribution(cholesterol_distribution, 'cholesterol level')\n",
    "plot_distribution(blood_pressure_distribution, 'blood pressure')\n",
    "plot_distribution(medicare_distribution, 'medicare number')"
   ]
  },
  {
   "cell_type": "code",
   "execution_count": 35,
   "id": "d90f447f",
   "metadata": {},
   "outputs": [
    {
     "name": "stdout",
     "output_type": "stream",
     "text": [
      "cholesterol_distribution \n",
      " 0     0.005\n",
      "1    63.935\n",
      "2    27.510\n",
      "3     0.755\n",
      "4     0.520\n",
      "5     0.570\n",
      "6     0.845\n",
      "7     1.200\n",
      "8     1.935\n",
      "9     2.725\n",
      "Name: cholesterol_first_digit, dtype: float64\n",
      "blood_pressure_distribution \n",
      " 5     0.005\n",
      "6     8.770\n",
      "7    78.715\n",
      "8    12.490\n",
      "9     0.020\n",
      "Name: blood_pressure_first_digit, dtype: float64\n",
      "medicare_distribution \n",
      " 1    11.260\n",
      "2    11.175\n",
      "3    11.210\n",
      "4    11.075\n",
      "5    10.810\n",
      "6    10.995\n",
      "7    11.270\n",
      "8    11.145\n",
      "9    11.060\n",
      "Name: medicare_first_digit, dtype: float64\n"
     ]
    }
   ],
   "source": [
    "print(\"cholesterol_distribution \\n\" , cholesterol_distribution)\n",
    "print(\"blood_pressure_distribution \\n\", blood_pressure_distribution)\n",
    "print(\"medicare_distribution \\n\", medicare_distribution)"
   ]
  },
  {
   "cell_type": "code",
   "execution_count": 36,
   "id": "a35e06f2",
   "metadata": {},
   "outputs": [],
   "source": [
    "cholesterol_distribution = (df['cholesterol_first_digit'].value_counts(normalize=True).sort_index() * 100).round(1).astype(str) + '%'\n",
    "blood_pressure_distribution = (df['blood_pressure_first_digit'].value_counts(normalize=True).sort_index() * 100).round(1).astype(str) + '%'\n",
    "medicare_distribution = (df['medicare_first_digit'].value_counts(normalize=True).sort_index() * 100).round(1).astype(str) + '%'"
   ]
  },
  {
   "cell_type": "code",
   "execution_count": 37,
   "id": "fa1b7a5e",
   "metadata": {},
   "outputs": [
    {
     "name": "stdout",
     "output_type": "stream",
     "text": [
      "cholesterol_distribution \n",
      " 0     0.0%\n",
      "1    63.9%\n",
      "2    27.5%\n",
      "3     0.8%\n",
      "4     0.5%\n",
      "5     0.6%\n",
      "6     0.8%\n",
      "7     1.2%\n",
      "8     1.9%\n",
      "9     2.7%\n",
      "Name: cholesterol_first_digit, dtype: object\n",
      "blood_pressure_distribution \n",
      " 5     0.0%\n",
      "6     8.8%\n",
      "7    78.7%\n",
      "8    12.5%\n",
      "9     0.0%\n",
      "Name: blood_pressure_first_digit, dtype: object\n",
      "medicare_distribution \n",
      " 1    11.3%\n",
      "2    11.2%\n",
      "3    11.2%\n",
      "4    11.1%\n",
      "5    10.8%\n",
      "6    11.0%\n",
      "7    11.3%\n",
      "8    11.1%\n",
      "9    11.1%\n",
      "Name: medicare_first_digit, dtype: object\n"
     ]
    }
   ],
   "source": [
    "print(\"cholesterol_distribution \\n\" , cholesterol_distribution)\n",
    "print(\"blood_pressure_distribution \\n\", blood_pressure_distribution)\n",
    "print(\"medicare_distribution \\n\", medicare_distribution)"
   ]
  }
 ],
 "metadata": {
  "kernelspec": {
   "display_name": "Python 3 (ipykernel)",
   "language": "python",
   "name": "python3"
  },
  "language_info": {
   "codemirror_mode": {
    "name": "ipython",
    "version": 3
   },
   "file_extension": ".py",
   "mimetype": "text/x-python",
   "name": "python",
   "nbconvert_exporter": "python",
   "pygments_lexer": "ipython3",
   "version": "3.9.12"
  }
 },
 "nbformat": 4,
 "nbformat_minor": 5
}

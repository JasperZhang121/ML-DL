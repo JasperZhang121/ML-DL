{
 "cells": [
  {
   "cell_type": "code",
   "execution_count": 1,
   "id": "f258ae8f",
   "metadata": {},
   "outputs": [],
   "source": [
    "import textdistance\n",
    "from collections import Counter"
   ]
  },
  {
   "cell_type": "markdown",
   "id": "732e40dd",
   "metadata": {},
   "source": [
    "### Create strings"
   ]
  },
  {
   "cell_type": "code",
   "execution_count": 2,
   "id": "91234742",
   "metadata": {},
   "outputs": [],
   "source": [
    "s1 = 'SometimeImadeWrongDecisions'\n",
    "s2 = 'MosttimeImadeTerribleDecisions'"
   ]
  },
  {
   "cell_type": "markdown",
   "id": "70eaf267",
   "metadata": {},
   "source": [
    "### 1. Dice coefficient similarity based on unigrams\n",
    "\n",
    "$\\text{Formula} = \\frac{2 \\times \\left| s_1 \\cap s_2 \\right|}{\\left| s_1 \\right| + \\left| s_2 \\right|}$"
   ]
  },
  {
   "cell_type": "code",
   "execution_count": 3,
   "id": "c0cf0ef0",
   "metadata": {},
   "outputs": [],
   "source": [
    "def dice_coefficient_unigrams(s1, s2):  \n",
    "    set1 = set(s1)  \n",
    "    set2 = set(s2)  \n",
    "    intersection = len(set1.intersection(set2))  \n",
    "    return (2. * intersection) / (len(set1) + len(set2))"
   ]
  },
  {
   "cell_type": "code",
   "execution_count": 4,
   "id": "040acf2e",
   "metadata": {
    "scrolled": true
   },
   "outputs": [
    {
     "data": {
      "text/plain": [
       "0.7878787878787878"
      ]
     },
     "execution_count": 4,
     "metadata": {},
     "output_type": "execute_result"
    }
   ],
   "source": [
    "dice_coefficient_unigrams(s1,s2)"
   ]
  },
  {
   "cell_type": "markdown",
   "id": "449db2ee",
   "metadata": {},
   "source": [
    "### 2. Jaccard similarity based on bigrams"
   ]
  },
  {
   "cell_type": "code",
   "execution_count": 5,
   "id": "7dd37caa",
   "metadata": {},
   "outputs": [],
   "source": [
    "def Jaccard_similarity_bigrams(s1,s2):\n",
    "    lis1,lis2 = [s1[i:i+2] for i in range(len(s1)-1)],[s2[i:i+2] for i in range(len(s2)-1)]\n",
    "    set1,set2 = set(lis1),set(lis2)\n",
    "    \n",
    "    print(f\"s1 is {set1}, s2 is {set2}\")\n",
    "    \n",
    "    intersection = len(set1.intersection(set2))\n",
    "    \n",
    "    print(f\"intersection is {intersection}\")\n",
    "    \n",
    "    return intersection/(len(set1)+len(set2)-intersection)"
   ]
  },
  {
   "cell_type": "code",
   "execution_count": 6,
   "id": "ca80e32e",
   "metadata": {},
   "outputs": [
    {
     "name": "stdout",
     "output_type": "stream",
     "text": [
      "s1 is {'ro', 'on', 'gD', 'ti', 'eI', 'is', 'ng', 'Im', 'im', 'ns', 'ad', 'et', 'om', 'So', 'ma', 'me', 'io', 'de', 'Wr', 'ci', 'si', 'De', 'eW', 'ec'}, s2 is {'on', 'os', 'ti', 'le', 'eI', 'rr', 'ri', 'bl', 'tt', 'is', 'Im', 'ib', 'im', 'eT', 'ns', 'ad', 'Mo', 'er', 'Te', 'ma', 'me', 'io', 'de', 'ci', 'eD', 'si', 'De', 'st', 'ec'}\n",
      "intersection is 16\n"
     ]
    },
    {
     "data": {
      "text/plain": [
       "0.43243243243243246"
      ]
     },
     "execution_count": 6,
     "metadata": {},
     "output_type": "execute_result"
    }
   ],
   "source": [
    "Jaccard_similarity_bigrams(s1,s2)"
   ]
  },
  {
   "cell_type": "markdown",
   "id": "d557d380",
   "metadata": {},
   "source": [
    "### 3. Bag distance similarity"
   ]
  },
  {
   "cell_type": "code",
   "execution_count": 7,
   "id": "3d9f4c8a",
   "metadata": {},
   "outputs": [],
   "source": [
    "def bag_dice_similarity(s1, s2):\n",
    "    bag_s1 = Counter(s1)\n",
    "    bag_s2 = Counter(s2)\n",
    "    \n",
    "    # intersection - counter\n",
    "    intersection = sum((bag_s1 & bag_s2).values())\n",
    "    \n",
    "    print(f\"intersection is {intersection}, bags are {bag_s1},{bag_s2}\")\n",
    "    \n",
    "    return (2.0 * intersection) / (sum(bag_s1.values()) + sum(bag_s2.values()))"
   ]
  },
  {
   "cell_type": "code",
   "execution_count": 8,
   "id": "6aad9c55",
   "metadata": {},
   "outputs": [
    {
     "name": "stdout",
     "output_type": "stream",
     "text": [
      "intersection is 21, bags are Counter({'e': 4, 'o': 3, 'm': 3, 'i': 3, 'n': 2, 's': 2, 'S': 1, 't': 1, 'I': 1, 'a': 1, 'd': 1, 'W': 1, 'r': 1, 'g': 1, 'D': 1, 'c': 1}),Counter({'e': 5, 'i': 4, 's': 3, 'o': 2, 't': 2, 'm': 2, 'r': 2, 'M': 1, 'I': 1, 'a': 1, 'd': 1, 'T': 1, 'b': 1, 'l': 1, 'D': 1, 'c': 1, 'n': 1})\n"
     ]
    },
    {
     "data": {
      "text/plain": [
       "0.7368421052631579"
      ]
     },
     "execution_count": 8,
     "metadata": {},
     "output_type": "execute_result"
    }
   ],
   "source": [
    "bag_dice_similarity(s1, s2)"
   ]
  },
  {
   "cell_type": "markdown",
   "id": "66f6d384",
   "metadata": {},
   "source": [
    "### Levenshtein edit distance"
   ]
  },
  {
   "cell_type": "code",
   "execution_count": 9,
   "id": "f6bf145a",
   "metadata": {},
   "outputs": [],
   "source": [
    "def levenshtein_distance(s1, s2, cost_sub=2, cost_ins=1, cost_del=1):\n",
    "    if not s1:\n",
    "        return len(s2) * cost_ins\n",
    "    if not s2:\n",
    "        return len(s1) * cost_del\n",
    "\n",
    "    len_str1 = len(s1) + 1\n",
    "    len_str2 = len(s2) + 1\n",
    "\n",
    "    # Create a matrix to store distances\n",
    "    dp = [[0 for n in range(len_str2)] for m in range(len_str1)]\n",
    "    \n",
    "    # Initialize the matrix\n",
    "    for i in range(len_str1):\n",
    "        dp[i][0] = i * cost_del\n",
    "    for j in range(len_str2):\n",
    "        dp[0][j] = j * cost_ins\n",
    "    \n",
    "    # print(f\"dp is {dp}\")\n",
    "    \n",
    "    # Compute Levenshtein distance\n",
    "    for i in range(1, len_str1):\n",
    "        for j in range(1, len_str2):\n",
    "            if s1[i-1] == s2[j-1]:\n",
    "                cost = 0\n",
    "            else:\n",
    "                cost = cost_sub\n",
    "\n",
    "            dp[i][j] = min(dp[i-1][j] + cost_del,  # deletion\n",
    "                           dp[i][j-1] + cost_ins,  # insertion\n",
    "                           dp[i-1][j-1] + cost)   # substitution\n",
    "            \n",
    "    print(dp)\n",
    "\n",
    "    return dp[-1][-1]\n",
    "\n",
    "s1 = '1236523'\n",
    "s2 = '1233462'"
   ]
  },
  {
   "cell_type": "code",
   "execution_count": 10,
   "id": "804ba167",
   "metadata": {},
   "outputs": [
    {
     "name": "stdout",
     "output_type": "stream",
     "text": [
      "[[0, 1, 2, 3, 4, 5, 6, 7], [1, 0, 1, 2, 3, 4, 5, 6], [2, 1, 0, 1, 2, 3, 4, 5], [3, 2, 1, 0, 1, 2, 3, 4], [4, 3, 2, 1, 2, 3, 2, 3], [5, 4, 3, 2, 3, 4, 3, 4], [6, 5, 4, 3, 4, 5, 4, 3], [7, 6, 5, 4, 3, 4, 5, 4]]\n"
     ]
    },
    {
     "data": {
      "text/plain": [
       "4"
      ]
     },
     "execution_count": 10,
     "metadata": {},
     "output_type": "execute_result"
    }
   ],
   "source": [
    "levenshtein_distance(s1, s2)"
   ]
  },
  {
   "cell_type": "code",
   "execution_count": 11,
   "id": "2f893df9",
   "metadata": {},
   "outputs": [
    {
     "name": "stdout",
     "output_type": "stream",
     "text": [
      "Distance: 4\n",
      "('Insert', '3')\n",
      "('Insert', '4')\n",
      "('Delete', '5')\n",
      "('Delete', '3')\n",
      "\n",
      "Distance: 4\n",
      "('Delete', '3')\n",
      "('Delete', '4')\n",
      "('Insert', '5')\n",
      "('Insert', '3')\n"
     ]
    }
   ],
   "source": [
    "def levenshtein_distance_with_operations(s1, s2, cost_sub=2, cost_ins=1, cost_del=1):\n",
    "    len_str1 = len(s1) + 1\n",
    "    len_str2 = len(s2) + 1\n",
    "\n",
    "    # Create a matrix to store distances\n",
    "    dp = [[0 for n in range(len_str2)] for m in range(len_str1)]\n",
    "    operations = [[[] for n in range(len_str2)] for m in range(len_str1)]\n",
    "\n",
    "    # Initialize the matrix\n",
    "    for i in range(len_str1):\n",
    "        dp[i][0] = i * cost_del\n",
    "        if i > 0:\n",
    "            operations[i][0] = operations[i-1][0] + [('Delete', s1[i-1])]\n",
    "    for j in range(len_str2):\n",
    "        dp[0][j] = j * cost_ins\n",
    "        if j > 0:\n",
    "            operations[0][j] = operations[0][j-1] + [('Insert', s2[j-1])]\n",
    "\n",
    "    # Compute Levenshtein distance\n",
    "    for i in range(1, len_str1):\n",
    "        for j in range(1, len_str2):\n",
    "            cost = 0 if s1[i-1] == s2[j-1] else cost_sub\n",
    "            choices = [\n",
    "                (dp[i-1][j] + cost_del, operations[i-1][j] + [('Delete', s1[i-1])]),\n",
    "                (dp[i][j-1] + cost_ins, operations[i][j-1] + [('Insert', s2[j-1])]),\n",
    "                (dp[i-1][j-1] + cost, operations[i-1][j-1] + (['Substitute', s1[i-1], s2[j-1]] if cost else []))\n",
    "            ]\n",
    "            dp[i][j], operations[i][j] = min(choices, key=lambda x: x[0])\n",
    "\n",
    "    return dp[-1][-1], operations[-1][-1]\n",
    "\n",
    "s1 = '1236523'\n",
    "s2 = '1233462'\n",
    "\n",
    "distance, ops = levenshtein_distance_with_operations(s1, s2)\n",
    "print(f\"Distance: {distance}\")\n",
    "for operation in ops:\n",
    "    print(operation)\n",
    "\n",
    "    \n",
    "distance, ops = levenshtein_distance_with_operations(s2, s1)\n",
    "print(f\"\\nDistance: {distance}\")\n",
    "for operation in ops:\n",
    "    print(operation)"
   ]
  }
 ],
 "metadata": {
  "kernelspec": {
   "display_name": "Python 3 (ipykernel)",
   "language": "python",
   "name": "python3"
  },
  "language_info": {
   "codemirror_mode": {
    "name": "ipython",
    "version": 3
   },
   "file_extension": ".py",
   "mimetype": "text/x-python",
   "name": "python",
   "nbconvert_exporter": "python",
   "pygments_lexer": "ipython3",
   "version": "2022.5.0"
  }
 },
 "nbformat": 4,
 "nbformat_minor": 5
}

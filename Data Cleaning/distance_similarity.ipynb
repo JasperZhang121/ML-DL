{
 "cells": [
  {
   "cell_type": "code",
   "execution_count": 1,
   "id": "f258ae8f",
   "metadata": {},
   "outputs": [],
   "source": [
    "import textdistance\n",
    "from collections import Counter"
   ]
  },
  {
   "cell_type": "markdown",
   "id": "732e40dd",
   "metadata": {},
   "source": [
    "### Create strings"
   ]
  },
  {
   "cell_type": "code",
   "execution_count": 2,
   "id": "91234742",
   "metadata": {},
   "outputs": [],
   "source": [
    "s1 = 'SometimeImadeWrongDecisions'\n",
    "s2 = 'MosttimeImadeTerribleDecisions'"
   ]
  },
  {
   "cell_type": "markdown",
   "id": "70eaf267",
   "metadata": {},
   "source": [
    "### Dice coefficient similarity based on unigrams\n",
    "\n",
    "$\\text{Formula} = \\frac{2 \\times \\left| s_1 \\cap s_2 \\right|}{\\left| s_1 \\right| + \\left| s_2 \\right|}$"
   ]
  },
  {
   "cell_type": "code",
   "execution_count": 3,
   "id": "c0cf0ef0",
   "metadata": {},
   "outputs": [],
   "source": [
    "def dice_coefficient_unigrams(s1, s2):  \n",
    "    set1 = set(s1)  \n",
    "    set2 = set(s2)  \n",
    "    intersection = len(set1.intersection(set2))  \n",
    "    return (2. * intersection) / (len(set1) + len(set2))"
   ]
  },
  {
   "cell_type": "code",
   "execution_count": 4,
   "id": "040acf2e",
   "metadata": {
    "scrolled": true
   },
   "outputs": [
    {
     "data": {
      "text/plain": [
       "0.7878787878787878"
      ]
     },
     "execution_count": 4,
     "metadata": {},
     "output_type": "execute_result"
    }
   ],
   "source": [
    "dice_coefficient_unigrams(s1,s2)"
   ]
  },
  {
   "cell_type": "markdown",
   "id": "449db2ee",
   "metadata": {},
   "source": [
    "### Jaccard similarity based on bigrams"
   ]
  },
  {
   "cell_type": "code",
   "execution_count": 5,
   "id": "7dd37caa",
   "metadata": {},
   "outputs": [],
   "source": [
    "def Jaccard_similarity_bigrams(s1,s2):\n",
    "    lis1,lis2 = [s1[i:i+2] for i in range(len(s1)-1)],[s2[i:i+2] for i in range(len(s2)-1)]\n",
    "    set1,set2 = set(lis1),set(lis2)\n",
    "    \n",
    "    print(f\"s1 is {set1}, s2 is {set2}\")\n",
    "    \n",
    "    intersection = len(set1.intersection(set2))\n",
    "    \n",
    "    print(f\"intersection is {intersection}\")\n",
    "    \n",
    "    return intersection/(len(set1)+len(set2)-intersection)"
   ]
  },
  {
   "cell_type": "code",
   "execution_count": 6,
   "id": "ca80e32e",
   "metadata": {},
   "outputs": [
    {
     "name": "stdout",
     "output_type": "stream",
     "text": [
      "s1 is {'ma', 'ro', 'de', 'on', 'im', 'io', 'om', 'De', 'et', 'ad', 'eW', 'ns', 'ti', 'eI', 'gD', 'me', 'ec', 'Im', 'is', 'Wr', 'So', 'si', 'ng', 'ci'}, s2 is {'ma', 'er', 'de', 'on', 'Mo', 'im', 'io', 'rr', 'ib', 'st', 'De', 'ad', 'bl', 'os', 'ri', 'ns', 'ti', 'Te', 'eI', 'eD', 'le', 'me', 'ec', 'Im', 'is', 'eT', 'si', 'ci', 'tt'}\n",
      "intersection is 16\n"
     ]
    },
    {
     "data": {
      "text/plain": [
       "0.43243243243243246"
      ]
     },
     "execution_count": 6,
     "metadata": {},
     "output_type": "execute_result"
    }
   ],
   "source": [
    "Jaccard_similarity_bigrams(s1,s2)"
   ]
  },
  {
   "cell_type": "markdown",
   "id": "66f6d384",
   "metadata": {},
   "source": [
    "### Levenshtein edit distance"
   ]
  },
  {
   "cell_type": "code",
   "execution_count": 7,
   "id": "f6bf145a",
   "metadata": {},
   "outputs": [],
   "source": [
    "def levenshtein_distance(s1, s2, cost_sub=2, cost_ins=1, cost_del=1):\n",
    "    if not s1:\n",
    "        return len(s2) * cost_ins\n",
    "    if not s2:\n",
    "        return len(s1) * cost_del\n",
    "\n",
    "    len_str1 = len(s1) + 1\n",
    "    len_str2 = len(s2) + 1\n",
    "\n",
    "    # Create a matrix to store distances\n",
    "    dp = [[0 for n in range(len_str2)] for m in range(len_str1)]\n",
    "    \n",
    "    # Initialize the matrix\n",
    "    for i in range(len_str1):\n",
    "        dp[i][0] = i * cost_del\n",
    "    for j in range(len_str2):\n",
    "        dp[0][j] = j * cost_ins\n",
    "    \n",
    "    # print(f\"dp is {dp}\")\n",
    "    \n",
    "    # Compute Levenshtein distance\n",
    "    for i in range(1, len_str1):\n",
    "        for j in range(1, len_str2):\n",
    "            if s1[i-1] == s2[j-1]:\n",
    "                cost = 0\n",
    "            else:\n",
    "                cost = cost_sub\n",
    "\n",
    "            dp[i][j] = min(dp[i-1][j] + cost_del,  # deletion\n",
    "                           dp[i][j-1] + cost_ins,  # insertion\n",
    "                           dp[i-1][j-1] + cost)   # substitution\n",
    "            \n",
    "    print(dp)\n",
    "\n",
    "    return dp[-1][-1]"
   ]
  },
  {
   "cell_type": "code",
   "execution_count": 8,
   "id": "804ba167",
   "metadata": {},
   "outputs": [
    {
     "name": "stdout",
     "output_type": "stream",
     "text": [
      "[[0, 1, 2, 3, 4, 5, 6, 7, 8, 9, 10, 11, 12, 13, 14, 15, 16, 17, 18, 19, 20, 21, 22, 23, 24, 25, 26, 27, 28, 29, 30], [1, 2, 3, 4, 5, 6, 7, 8, 9, 10, 11, 12, 13, 14, 15, 16, 17, 18, 19, 20, 21, 22, 23, 24, 25, 26, 27, 28, 29, 30, 31], [2, 3, 2, 3, 4, 5, 6, 7, 8, 9, 10, 11, 12, 13, 14, 15, 16, 17, 18, 19, 20, 21, 22, 23, 24, 25, 26, 27, 28, 29, 30], [3, 4, 3, 4, 5, 6, 7, 6, 7, 8, 9, 10, 11, 12, 13, 14, 15, 16, 17, 18, 19, 20, 21, 22, 23, 24, 25, 26, 27, 28, 29], [4, 5, 4, 5, 6, 7, 8, 7, 6, 7, 8, 9, 10, 11, 12, 13, 14, 15, 16, 17, 18, 19, 20, 21, 22, 23, 24, 25, 26, 27, 28], [5, 6, 5, 6, 5, 6, 7, 8, 7, 8, 9, 10, 11, 12, 13, 14, 15, 16, 17, 18, 19, 20, 21, 22, 23, 24, 25, 26, 27, 28, 29], [6, 7, 6, 7, 6, 7, 6, 7, 8, 9, 10, 11, 12, 13, 14, 15, 16, 17, 16, 17, 18, 19, 20, 21, 22, 23, 24, 25, 26, 27, 28], [7, 8, 7, 8, 7, 8, 7, 6, 7, 8, 9, 10, 11, 12, 13, 14, 15, 16, 17, 18, 19, 20, 21, 22, 23, 24, 25, 26, 27, 28, 29], [8, 9, 8, 9, 8, 9, 8, 7, 6, 7, 8, 9, 10, 11, 12, 13, 14, 15, 16, 17, 18, 19, 20, 21, 22, 23, 24, 25, 26, 27, 28], [9, 10, 9, 10, 9, 10, 9, 8, 7, 6, 7, 8, 9, 10, 11, 12, 13, 14, 15, 16, 17, 18, 19, 20, 21, 22, 23, 24, 25, 26, 27], [10, 11, 10, 11, 10, 11, 10, 9, 8, 7, 6, 7, 8, 9, 10, 11, 12, 13, 14, 15, 16, 17, 18, 19, 20, 21, 22, 23, 24, 25, 26], [11, 12, 11, 12, 11, 12, 11, 10, 9, 8, 7, 6, 7, 8, 9, 10, 11, 12, 13, 14, 15, 16, 17, 18, 19, 20, 21, 22, 23, 24, 25], [12, 13, 12, 13, 12, 13, 12, 11, 10, 9, 8, 7, 6, 7, 8, 9, 10, 11, 12, 13, 14, 15, 16, 17, 18, 19, 20, 21, 22, 23, 24], [13, 14, 13, 14, 13, 14, 13, 12, 11, 10, 9, 8, 7, 6, 7, 8, 9, 10, 11, 12, 13, 14, 15, 16, 17, 18, 19, 20, 21, 22, 23], [14, 15, 14, 15, 14, 15, 14, 13, 12, 11, 10, 9, 8, 7, 8, 9, 10, 11, 12, 13, 14, 15, 16, 17, 18, 19, 20, 21, 22, 23, 24], [15, 16, 15, 16, 15, 16, 15, 14, 13, 12, 11, 10, 9, 8, 9, 10, 9, 10, 11, 12, 13, 14, 15, 16, 17, 18, 19, 20, 21, 22, 23], [16, 17, 16, 17, 16, 17, 16, 15, 14, 13, 12, 11, 10, 9, 10, 11, 10, 11, 12, 13, 14, 15, 16, 17, 18, 19, 20, 21, 20, 21, 22], [17, 18, 17, 18, 17, 18, 17, 16, 15, 14, 13, 12, 11, 10, 11, 12, 11, 12, 13, 14, 15, 16, 17, 18, 19, 20, 21, 22, 21, 20, 21], [18, 19, 18, 19, 18, 19, 18, 17, 16, 15, 14, 13, 12, 11, 12, 13, 12, 13, 14, 15, 16, 17, 18, 19, 20, 21, 22, 23, 22, 21, 22], [19, 20, 19, 20, 19, 20, 19, 18, 17, 16, 15, 14, 13, 12, 13, 14, 13, 14, 15, 16, 17, 18, 17, 18, 19, 20, 21, 22, 23, 22, 23], [20, 21, 20, 21, 20, 21, 20, 19, 18, 17, 16, 15, 14, 13, 14, 13, 14, 15, 16, 17, 18, 17, 18, 17, 18, 19, 20, 21, 22, 23, 24], [21, 22, 21, 22, 21, 22, 21, 20, 19, 18, 17, 16, 15, 14, 15, 14, 15, 16, 17, 18, 19, 18, 19, 18, 17, 18, 19, 20, 21, 22, 23], [22, 23, 22, 23, 22, 23, 22, 21, 20, 19, 18, 17, 16, 15, 16, 15, 16, 17, 16, 17, 18, 19, 20, 19, 18, 17, 18, 19, 20, 21, 22], [23, 24, 23, 22, 23, 24, 23, 22, 21, 20, 19, 18, 17, 16, 17, 16, 17, 18, 17, 18, 19, 20, 21, 20, 19, 18, 17, 18, 19, 20, 21], [24, 25, 24, 23, 24, 25, 24, 23, 22, 21, 20, 19, 18, 17, 18, 17, 18, 19, 18, 19, 20, 21, 22, 21, 20, 19, 18, 17, 18, 19, 20], [25, 26, 25, 24, 25, 26, 25, 24, 23, 22, 21, 20, 19, 18, 19, 18, 19, 20, 19, 20, 21, 22, 23, 22, 21, 20, 19, 18, 17, 18, 19], [26, 27, 26, 25, 26, 27, 26, 25, 24, 23, 22, 21, 20, 19, 20, 19, 20, 21, 20, 21, 22, 23, 24, 23, 22, 21, 20, 19, 18, 17, 18], [27, 28, 27, 26, 27, 28, 27, 26, 25, 24, 23, 22, 21, 20, 21, 20, 21, 22, 21, 22, 23, 24, 25, 24, 23, 22, 21, 20, 19, 18, 17]]\n"
     ]
    },
    {
     "data": {
      "text/plain": [
       "17"
      ]
     },
     "execution_count": 8,
     "metadata": {},
     "output_type": "execute_result"
    }
   ],
   "source": [
    "levenshtein_distance(s1, s2)"
   ]
  },
  {
   "cell_type": "code",
   "execution_count": 9,
   "id": "2f893df9",
   "metadata": {},
   "outputs": [
    {
     "name": "stdout",
     "output_type": "stream",
     "text": [
      "Distance: 4\n",
      "('Insert', '3')\n",
      "('Insert', '4')\n",
      "('Delete', '5')\n",
      "('Delete', '3')\n",
      "\n",
      "Distance: 4\n",
      "('Delete', '3')\n",
      "('Delete', '4')\n",
      "('Insert', '5')\n",
      "('Insert', '3')\n"
     ]
    }
   ],
   "source": [
    "def levenshtein_distance_with_operations(s1, s2, cost_sub=2, cost_ins=1, cost_del=1):\n",
    "    len_str1 = len(s1) + 1\n",
    "    len_str2 = len(s2) + 1\n",
    "\n",
    "    # Create a matrix to store distances\n",
    "    dp = [[0 for n in range(len_str2)] for m in range(len_str1)]\n",
    "    operations = [[[] for n in range(len_str2)] for m in range(len_str1)]\n",
    "\n",
    "    # Initialize the matrix\n",
    "    for i in range(len_str1):\n",
    "        dp[i][0] = i * cost_del\n",
    "        if i > 0:\n",
    "            operations[i][0] = operations[i-1][0] + [('Delete', s1[i-1])]\n",
    "    for j in range(len_str2):\n",
    "        dp[0][j] = j * cost_ins\n",
    "        if j > 0:\n",
    "            operations[0][j] = operations[0][j-1] + [('Insert', s2[j-1])]\n",
    "\n",
    "    # Compute Levenshtein distance\n",
    "    for i in range(1, len_str1):\n",
    "        for j in range(1, len_str2):\n",
    "            cost = 0 if s1[i-1] == s2[j-1] else cost_sub\n",
    "            choices = [\n",
    "                (dp[i-1][j] + cost_del, operations[i-1][j] + [('Delete', s1[i-1])]),\n",
    "                (dp[i][j-1] + cost_ins, operations[i][j-1] + [('Insert', s2[j-1])]),\n",
    "                (dp[i-1][j-1] + cost, operations[i-1][j-1] + (['Substitute', s1[i-1], s2[j-1]] if cost else []))\n",
    "            ]\n",
    "            dp[i][j], operations[i][j] = min(choices, key=lambda x: x[0])\n",
    "\n",
    "    return dp[-1][-1], operations[-1][-1]\n",
    "\n",
    "s1 = '1236523'\n",
    "s2 = '1233462'\n",
    "\n",
    "distance, ops = levenshtein_distance_with_operations(s1, s2)\n",
    "print(f\"Distance: {distance}\")\n",
    "for operation in ops:\n",
    "    print(operation)\n",
    "\n",
    "    \n",
    "distance, ops = levenshtein_distance_with_operations(s2, s1)\n",
    "print(f\"\\nDistance: {distance}\")\n",
    "for operation in ops:\n",
    "    print(operation)"
   ]
  },
  {
   "cell_type": "markdown",
   "id": "87ce5b30",
   "metadata": {},
   "source": [
    "### Jaro similarity"
   ]
  },
  {
   "cell_type": "code",
   "execution_count": 10,
   "id": "7d723d7e",
   "metadata": {},
   "outputs": [
    {
     "name": "stdout",
     "output_type": "stream",
     "text": [
      "0.809524\n"
     ]
    }
   ],
   "source": [
    "from math import floor, ceil\n",
    "\n",
    "# Function to calculate the\n",
    "# Jaro Similarity of two s\n",
    "def jaro_distance(s1, s2):\n",
    "\t\n",
    "\t# If the s are equal\n",
    "\tif (s1 == s2):\n",
    "\t\treturn 1.0\n",
    "\n",
    "\t# Length of two s\n",
    "\tlen1 = len(s1)\n",
    "\tlen2 = len(s2)\n",
    "\n",
    "\t# Maximum distance upto which matching\n",
    "\t# is allowed\n",
    "\tmax_dist = floor(max(len1, len2) / 2) - 1\n",
    "\n",
    "\t# Count of matches\n",
    "\tmatch = 0\n",
    "\n",
    "\t# Hash for matches\n",
    "\thash_s1 = [0] * len(s1)\n",
    "\thash_s2 = [0] * len(s2)\n",
    "\n",
    "\t# Traverse through the first\n",
    "\tfor i in range(len1):\n",
    "\n",
    "\t\t# Check if there is any matches\n",
    "\t\tfor j in range(max(0, i - max_dist),\n",
    "\t\t\t\t\tmin(len2, i + max_dist + 1)):\n",
    "\t\t\t\n",
    "\t\t\t# If there is a match\n",
    "\t\t\tif (s1[i] == s2[j] and hash_s2[j] == 0):\n",
    "\t\t\t\thash_s1[i] = 1\n",
    "\t\t\t\thash_s2[j] = 1\n",
    "\t\t\t\tmatch += 1\n",
    "\t\t\t\tbreak\n",
    "\n",
    "\t# If there is no match\n",
    "\tif (match == 0):\n",
    "\t\treturn 0.0\n",
    "\n",
    "\t# Number of transpositions\n",
    "\tt = 0\n",
    "\tpoint = 0\n",
    "\n",
    "\t# Count number of occurrences\n",
    "\t# where two characters match but\n",
    "\t# there is a third matched character\n",
    "\t# in between the indices\n",
    "\tfor i in range(len1):\n",
    "\t\tif (hash_s1[i]):\n",
    "\n",
    "\t\t\t# Find the next matched character\n",
    "\t\t\t# in second\n",
    "\t\t\twhile (hash_s2[point] == 0):\n",
    "\t\t\t\tpoint += 1\n",
    "\n",
    "\t\t\tif (s1[i] != s2[point]):\n",
    "\t\t\t\tt += 1\n",
    "\t\t\tpoint += 1\n",
    "\tt = t//2\n",
    "\n",
    "\t# Return the Jaro Similarity\n",
    "\treturn (match/ len1 + match / len2 +\n",
    "\t\t\t(match - t) / match)/ 3.0\n",
    "\n",
    "print(round(jaro_distance(s1, s2),6))"
   ]
  }
 ],
 "metadata": {
  "kernelspec": {
   "display_name": "Python 3 (ipykernel)",
   "language": "python",
   "name": "python3"
  },
  "language_info": {
   "codemirror_mode": {
    "name": "ipython",
    "version": 3
   },
   "file_extension": ".py",
   "mimetype": "text/x-python",
   "name": "python",
   "nbconvert_exporter": "python",
   "pygments_lexer": "ipython3",
   "version": "3.9.12"
  }
 },
 "nbformat": 4,
 "nbformat_minor": 5
}

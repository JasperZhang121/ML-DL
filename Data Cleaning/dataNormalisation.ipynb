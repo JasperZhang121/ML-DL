{
 "cells": [
  {
   "cell_type": "code",
   "execution_count": 1,
   "id": "96e0f3e3",
   "metadata": {},
   "outputs": [],
   "source": [
    "import numpy as np\n",
    "np.set_printoptions(precision=2, suppress=True)"
   ]
  },
  {
   "cell_type": "code",
   "execution_count": 2,
   "id": "d4022ba4",
   "metadata": {},
   "outputs": [],
   "source": [
    "x = np.array([5, 27, 100, 59, 28, 48, 50, 39, 9, 7, 20, 63, 10, 41, 9])"
   ]
  },
  {
   "cell_type": "markdown",
   "id": "f40b79c3",
   "metadata": {},
   "source": [
    "min-max normalisation:\n",
    "$$\n",
    "\\hat{x} = \\frac{x - x_\\text{min}}{x_\\text{max} - x_\\text{min}}\n",
    "$$"
   ]
  },
  {
   "cell_type": "code",
   "execution_count": 3,
   "id": "064c7ee7",
   "metadata": {},
   "outputs": [
    {
     "data": {
      "text/plain": [
       "array([0.  , 0.23, 1.  , 0.57, 0.24, 0.45, 0.47, 0.36, 0.04, 0.02, 0.16,\n",
       "       0.61, 0.05, 0.38, 0.04])"
      ]
     },
     "execution_count": 3,
     "metadata": {},
     "output_type": "execute_result"
    }
   ],
   "source": [
    "(x - np.min(x)) / (np.max(x) - np.min(x))"
   ]
  },
  {
   "cell_type": "markdown",
   "id": "70218d2d",
   "metadata": {},
   "source": [
    "z-score normalisation:\n",
    "$$\n",
    "\\hat{x} = \\frac{x - \\overline{x}}{\\sigma}\n",
    "$$"
   ]
  },
  {
   "cell_type": "code",
   "execution_count": 4,
   "id": "3c383974",
   "metadata": {},
   "outputs": [
    {
     "data": {
      "text/plain": [
       "array([-1.13, -0.28,  2.54,  0.95, -0.25,  0.53,  0.61,  0.18, -0.98,\n",
       "       -1.06, -0.55,  1.11, -0.94,  0.26, -0.98])"
      ]
     },
     "execution_count": 4,
     "metadata": {},
     "output_type": "execute_result"
    }
   ],
   "source": [
    "(x - np.mean(x)) / np.std(x)"
   ]
  },
  {
   "cell_type": "markdown",
   "id": "da28ed8e",
   "metadata": {},
   "source": [
    "robust normalisation, suppose function $med(x)$ computes the median of vector $x$:\n",
    "$$\n",
    "\\hat{x} = \\frac{x - med(x)}{med(|x - med(x)|)}\n",
    "$$"
   ]
  },
  {
   "cell_type": "code",
   "execution_count": 5,
   "id": "4b5d6bad",
   "metadata": {},
   "outputs": [
    {
     "data": {
      "text/plain": [
       "array([-1.21, -0.05,  3.79,  1.63,  0.  ,  1.05,  1.16,  0.58, -1.  ,\n",
       "       -1.11, -0.42,  1.84, -0.95,  0.68, -1.  ])"
      ]
     },
     "execution_count": 5,
     "metadata": {},
     "output_type": "execute_result"
    }
   ],
   "source": [
    "f = np.median # store the function\n",
    "(x - f(x)) / f(np.abs(x - f(x)))"
   ]
  },
  {
   "cell_type": "code",
   "execution_count": 6,
   "id": "a1d71af6",
   "metadata": {},
   "outputs": [],
   "source": [
    "import pandas as pd"
   ]
  },
  {
   "cell_type": "code",
   "execution_count": 7,
   "id": "cead7844",
   "metadata": {},
   "outputs": [],
   "source": [
    "df = pd.read_csv('..\\Poll_Result_raw.csv')"
   ]
  },
  {
   "cell_type": "code",
   "execution_count": 8,
   "id": "419c8b95",
   "metadata": {},
   "outputs": [
    {
     "data": {
      "text/html": [
       "<div>\n",
       "<style scoped>\n",
       "    .dataframe tbody tr th:only-of-type {\n",
       "        vertical-align: middle;\n",
       "    }\n",
       "\n",
       "    .dataframe tbody tr th {\n",
       "        vertical-align: top;\n",
       "    }\n",
       "\n",
       "    .dataframe thead th {\n",
       "        text-align: right;\n",
       "    }\n",
       "</style>\n",
       "<table border=\"1\" class=\"dataframe\">\n",
       "  <thead>\n",
       "    <tr style=\"text-align: right;\">\n",
       "      <th></th>\n",
       "      <th>SRCID</th>\n",
       "      <th>Q1</th>\n",
       "      <th>Q1_Ordinal</th>\n",
       "      <th>Q2</th>\n",
       "      <th>DUM1</th>\n",
       "      <th>DUM2</th>\n",
       "      <th>Q5Average</th>\n",
       "      <th>Q6</th>\n",
       "      <th>Q7Average</th>\n",
       "      <th>Q8</th>\n",
       "      <th>...</th>\n",
       "      <th>Q18</th>\n",
       "      <th>Q20</th>\n",
       "      <th>Q22</th>\n",
       "      <th>Q22_Ordinal</th>\n",
       "      <th>Q24</th>\n",
       "      <th>p_gender_sdc</th>\n",
       "      <th>p_age_group_sdc</th>\n",
       "      <th>p_education_sdc</th>\n",
       "      <th>p_state_sdc</th>\n",
       "      <th>Random</th>\n",
       "    </tr>\n",
       "  </thead>\n",
       "  <tbody>\n",
       "    <tr>\n",
       "      <th>0</th>\n",
       "      <td>3</td>\n",
       "      <td>4</td>\n",
       "      <td>\"4\"</td>\n",
       "      <td>\"8\"</td>\n",
       "      <td>\"1\"</td>\n",
       "      <td>\"2\"</td>\n",
       "      <td>3</td>\n",
       "      <td>\"5\"</td>\n",
       "      <td>2</td>\n",
       "      <td>\"9\"</td>\n",
       "      <td>...</td>\n",
       "      <td>8</td>\n",
       "      <td>7</td>\n",
       "      <td>1</td>\n",
       "      <td>\"1\"</td>\n",
       "      <td>\"0\"</td>\n",
       "      <td>\"1\"</td>\n",
       "      <td>\"1\"</td>\n",
       "      <td>\"2\"</td>\n",
       "      <td>\"2\"</td>\n",
       "      <td>NaN</td>\n",
       "    </tr>\n",
       "    <tr>\n",
       "      <th>1</th>\n",
       "      <td>6</td>\n",
       "      <td>1</td>\n",
       "      <td>\"1\"</td>\n",
       "      <td>\"11\"</td>\n",
       "      <td>\"1\"</td>\n",
       "      <td>\"2\"</td>\n",
       "      <td>2</td>\n",
       "      <td>\"1\"</td>\n",
       "      <td>1</td>\n",
       "      <td>\"1\"</td>\n",
       "      <td>...</td>\n",
       "      <td>6</td>\n",
       "      <td>6</td>\n",
       "      <td>1</td>\n",
       "      <td>\"1\"</td>\n",
       "      <td>\"0\"</td>\n",
       "      <td>\"2\"</td>\n",
       "      <td>\"4\"</td>\n",
       "      <td>\"1\"</td>\n",
       "      <td>\"1\"</td>\n",
       "      <td>NaN</td>\n",
       "    </tr>\n",
       "    <tr>\n",
       "      <th>2</th>\n",
       "      <td>10</td>\n",
       "      <td>4</td>\n",
       "      <td>\"4\"</td>\n",
       "      <td>\"12\"</td>\n",
       "      <td>\"2\"</td>\n",
       "      <td>\"1\"</td>\n",
       "      <td>2</td>\n",
       "      <td>\"2\"</td>\n",
       "      <td>1</td>\n",
       "      <td>\"3\"</td>\n",
       "      <td>...</td>\n",
       "      <td>5</td>\n",
       "      <td>7</td>\n",
       "      <td>1</td>\n",
       "      <td>\"1\"</td>\n",
       "      <td>\"0\"</td>\n",
       "      <td>\"2\"</td>\n",
       "      <td>\"4\"</td>\n",
       "      <td>\"2\"</td>\n",
       "      <td>\"5\"</td>\n",
       "      <td>0.0</td>\n",
       "    </tr>\n",
       "    <tr>\n",
       "      <th>3</th>\n",
       "      <td>14</td>\n",
       "      <td>4</td>\n",
       "      <td>\"4\"</td>\n",
       "      <td>\"20\"</td>\n",
       "      <td>\"1\"</td>\n",
       "      <td>\"1\"</td>\n",
       "      <td>3</td>\n",
       "      <td>\"4\"</td>\n",
       "      <td>1</td>\n",
       "      <td>\"6\"</td>\n",
       "      <td>...</td>\n",
       "      <td>5</td>\n",
       "      <td>6</td>\n",
       "      <td>1</td>\n",
       "      <td>\"1\"</td>\n",
       "      <td>\"0\"</td>\n",
       "      <td>\"2\"</td>\n",
       "      <td>\"4\"</td>\n",
       "      <td>\"3\"</td>\n",
       "      <td>\"2\"</td>\n",
       "      <td>NaN</td>\n",
       "    </tr>\n",
       "    <tr>\n",
       "      <th>4</th>\n",
       "      <td>15</td>\n",
       "      <td>4</td>\n",
       "      <td>\"4\"</td>\n",
       "      <td>\"17\"</td>\n",
       "      <td>\"1\"</td>\n",
       "      <td>\"2\"</td>\n",
       "      <td>3</td>\n",
       "      <td>\"8\"</td>\n",
       "      <td>2</td>\n",
       "      <td>\"1\"</td>\n",
       "      <td>...</td>\n",
       "      <td>7</td>\n",
       "      <td>6</td>\n",
       "      <td>1</td>\n",
       "      <td>\"1\"</td>\n",
       "      <td>\"0\"</td>\n",
       "      <td>\"2\"</td>\n",
       "      <td>\"4\"</td>\n",
       "      <td>\"2\"</td>\n",
       "      <td>\"1\"</td>\n",
       "      <td>0.0</td>\n",
       "    </tr>\n",
       "    <tr>\n",
       "      <th>...</th>\n",
       "      <td>...</td>\n",
       "      <td>...</td>\n",
       "      <td>...</td>\n",
       "      <td>...</td>\n",
       "      <td>...</td>\n",
       "      <td>...</td>\n",
       "      <td>...</td>\n",
       "      <td>...</td>\n",
       "      <td>...</td>\n",
       "      <td>...</td>\n",
       "      <td>...</td>\n",
       "      <td>...</td>\n",
       "      <td>...</td>\n",
       "      <td>...</td>\n",
       "      <td>...</td>\n",
       "      <td>...</td>\n",
       "      <td>...</td>\n",
       "      <td>...</td>\n",
       "      <td>...</td>\n",
       "      <td>...</td>\n",
       "      <td>...</td>\n",
       "    </tr>\n",
       "    <tr>\n",
       "      <th>2049</th>\n",
       "      <td>403</td>\n",
       "      <td>4</td>\n",
       "      <td>\"4\"</td>\n",
       "      <td>\"19\"</td>\n",
       "      <td>\"1\"</td>\n",
       "      <td>\"3\"</td>\n",
       "      <td>2</td>\n",
       "      <td>\"4\"</td>\n",
       "      <td>1</td>\n",
       "      <td>\"9\"</td>\n",
       "      <td>...</td>\n",
       "      <td>8</td>\n",
       "      <td>9</td>\n",
       "      <td>3</td>\n",
       "      <td>\"3\"</td>\n",
       "      <td>\"1\"</td>\n",
       "      <td>\"1\"</td>\n",
       "      <td>\"4\"</td>\n",
       "      <td>\"1\"</td>\n",
       "      <td>\"5\"</td>\n",
       "      <td>NaN</td>\n",
       "    </tr>\n",
       "    <tr>\n",
       "      <th>2050</th>\n",
       "      <td>840</td>\n",
       "      <td>2</td>\n",
       "      <td>\"2\"</td>\n",
       "      <td>\"34\"</td>\n",
       "      <td>\"2\"</td>\n",
       "      <td>\"2\"</td>\n",
       "      <td>2</td>\n",
       "      <td>\"4\"</td>\n",
       "      <td>2</td>\n",
       "      <td>\"2\"</td>\n",
       "      <td>...</td>\n",
       "      <td>2</td>\n",
       "      <td>10</td>\n",
       "      <td>3</td>\n",
       "      <td>\"3\"</td>\n",
       "      <td>\"1\"</td>\n",
       "      <td>\"1\"</td>\n",
       "      <td>\"4\"</td>\n",
       "      <td>\"1\"</td>\n",
       "      <td>\"3\"</td>\n",
       "      <td>NaN</td>\n",
       "    </tr>\n",
       "    <tr>\n",
       "      <th>2051</th>\n",
       "      <td>946</td>\n",
       "      <td>2</td>\n",
       "      <td>\"2\"</td>\n",
       "      <td>\"37\"</td>\n",
       "      <td>\"1\"</td>\n",
       "      <td>\"3\"</td>\n",
       "      <td>2</td>\n",
       "      <td>\"10\"</td>\n",
       "      <td>1</td>\n",
       "      <td>\"3\"</td>\n",
       "      <td>...</td>\n",
       "      <td>7</td>\n",
       "      <td>3</td>\n",
       "      <td>3</td>\n",
       "      <td>\"3\"</td>\n",
       "      <td>\"1\"</td>\n",
       "      <td>\"2\"</td>\n",
       "      <td>\"3\"</td>\n",
       "      <td>\"1\"</td>\n",
       "      <td>\"2\"</td>\n",
       "      <td>NaN</td>\n",
       "    </tr>\n",
       "    <tr>\n",
       "      <th>2052</th>\n",
       "      <td>1227</td>\n",
       "      <td>2</td>\n",
       "      <td>\"2\"</td>\n",
       "      <td>\"34\"</td>\n",
       "      <td>\"1\"</td>\n",
       "      <td>\"3\"</td>\n",
       "      <td>2</td>\n",
       "      <td>\"12\"</td>\n",
       "      <td>2</td>\n",
       "      <td>\"5\"</td>\n",
       "      <td>...</td>\n",
       "      <td>6</td>\n",
       "      <td>5</td>\n",
       "      <td>3</td>\n",
       "      <td>\"3\"</td>\n",
       "      <td>\"1\"</td>\n",
       "      <td>\"1\"</td>\n",
       "      <td>\"3\"</td>\n",
       "      <td>\"1\"</td>\n",
       "      <td>\"1\"</td>\n",
       "      <td>1.0</td>\n",
       "    </tr>\n",
       "    <tr>\n",
       "      <th>2053</th>\n",
       "      <td>2501</td>\n",
       "      <td>2</td>\n",
       "      <td>\"2\"</td>\n",
       "      <td>\"29\"</td>\n",
       "      <td>\"2\"</td>\n",
       "      <td>\"3\"</td>\n",
       "      <td>2</td>\n",
       "      <td>\"12\"</td>\n",
       "      <td>2</td>\n",
       "      <td>\"5\"</td>\n",
       "      <td>...</td>\n",
       "      <td>8</td>\n",
       "      <td>7</td>\n",
       "      <td>3</td>\n",
       "      <td>\"3\"</td>\n",
       "      <td>\"1\"</td>\n",
       "      <td>\"1\"</td>\n",
       "      <td>\"4\"</td>\n",
       "      <td>\"1\"</td>\n",
       "      <td>\"3\"</td>\n",
       "      <td>NaN</td>\n",
       "    </tr>\n",
       "  </tbody>\n",
       "</table>\n",
       "<p>2054 rows × 25 columns</p>\n",
       "</div>"
      ],
      "text/plain": [
       "      SRCID  Q1 Q1_Ordinal    Q2 DUM1 DUM2  Q5Average    Q6  Q7Average   Q8  \\\n",
       "0         3   4        \"4\"   \"8\"  \"1\"  \"2\"          3   \"5\"          2  \"9\"   \n",
       "1         6   1        \"1\"  \"11\"  \"1\"  \"2\"          2   \"1\"          1  \"1\"   \n",
       "2        10   4        \"4\"  \"12\"  \"2\"  \"1\"          2   \"2\"          1  \"3\"   \n",
       "3        14   4        \"4\"  \"20\"  \"1\"  \"1\"          3   \"4\"          1  \"6\"   \n",
       "4        15   4        \"4\"  \"17\"  \"1\"  \"2\"          3   \"8\"          2  \"1\"   \n",
       "...     ...  ..        ...   ...  ...  ...        ...   ...        ...  ...   \n",
       "2049    403   4        \"4\"  \"19\"  \"1\"  \"3\"          2   \"4\"          1  \"9\"   \n",
       "2050    840   2        \"2\"  \"34\"  \"2\"  \"2\"          2   \"4\"          2  \"2\"   \n",
       "2051    946   2        \"2\"  \"37\"  \"1\"  \"3\"          2  \"10\"          1  \"3\"   \n",
       "2052   1227   2        \"2\"  \"34\"  \"1\"  \"3\"          2  \"12\"          2  \"5\"   \n",
       "2053   2501   2        \"2\"  \"29\"  \"2\"  \"3\"          2  \"12\"          2  \"5\"   \n",
       "\n",
       "      ...  Q18 Q20  Q22  Q22_Ordinal  Q24  p_gender_sdc  p_age_group_sdc  \\\n",
       "0     ...    8   7    1          \"1\"  \"0\"           \"1\"              \"1\"   \n",
       "1     ...    6   6    1          \"1\"  \"0\"           \"2\"              \"4\"   \n",
       "2     ...    5   7    1          \"1\"  \"0\"           \"2\"              \"4\"   \n",
       "3     ...    5   6    1          \"1\"  \"0\"           \"2\"              \"4\"   \n",
       "4     ...    7   6    1          \"1\"  \"0\"           \"2\"              \"4\"   \n",
       "...   ...  ...  ..  ...          ...  ...           ...              ...   \n",
       "2049  ...    8   9    3          \"3\"  \"1\"           \"1\"              \"4\"   \n",
       "2050  ...    2  10    3          \"3\"  \"1\"           \"1\"              \"4\"   \n",
       "2051  ...    7   3    3          \"3\"  \"1\"           \"2\"              \"3\"   \n",
       "2052  ...    6   5    3          \"3\"  \"1\"           \"1\"              \"3\"   \n",
       "2053  ...    8   7    3          \"3\"  \"1\"           \"1\"              \"4\"   \n",
       "\n",
       "      p_education_sdc p_state_sdc Random  \n",
       "0                 \"2\"         \"2\"    NaN  \n",
       "1                 \"1\"         \"1\"    NaN  \n",
       "2                 \"2\"         \"5\"    0.0  \n",
       "3                 \"3\"         \"2\"    NaN  \n",
       "4                 \"2\"         \"1\"    0.0  \n",
       "...               ...         ...    ...  \n",
       "2049              \"1\"         \"5\"    NaN  \n",
       "2050              \"1\"         \"3\"    NaN  \n",
       "2051              \"1\"         \"2\"    NaN  \n",
       "2052              \"1\"         \"1\"    1.0  \n",
       "2053              \"1\"         \"3\"    NaN  \n",
       "\n",
       "[2054 rows x 25 columns]"
      ]
     },
     "execution_count": 8,
     "metadata": {},
     "output_type": "execute_result"
    }
   ],
   "source": [
    "df"
   ]
  },
  {
   "cell_type": "code",
   "execution_count": 9,
   "id": "199713dc",
   "metadata": {
    "scrolled": true
   },
   "outputs": [
    {
     "data": {
      "text/plain": [
       "SRCID                0\n",
       "Q1                   0\n",
       "Q1_Ordinal           0\n",
       "Q2                   0\n",
       "DUM1                 0\n",
       "DUM2                 0\n",
       "Q5Average            0\n",
       "Q6                   0\n",
       "Q7Average            0\n",
       "Q8                   0\n",
       "Q9Average            0\n",
       "Q10                  0\n",
       "Q11Average           0\n",
       "Q12                  0\n",
       "Q12_Ordinal          0\n",
       "Q18                  0\n",
       "Q20                  0\n",
       "Q22                  0\n",
       "Q22_Ordinal          0\n",
       "Q24                  0\n",
       "p_gender_sdc         0\n",
       "p_age_group_sdc      0\n",
       "p_education_sdc      0\n",
       "p_state_sdc          0\n",
       "Random             462\n",
       "dtype: int64"
      ]
     },
     "execution_count": 9,
     "metadata": {},
     "output_type": "execute_result"
    }
   ],
   "source": [
    "len(df) - df.count() # count missing value for each attribute"
   ]
  },
  {
   "cell_type": "code",
   "execution_count": 10,
   "id": "32f420c9",
   "metadata": {},
   "outputs": [],
   "source": [
    "median_val = df['Random'].median()"
   ]
  },
  {
   "cell_type": "code",
   "execution_count": 11,
   "id": "b9a8eb0b",
   "metadata": {},
   "outputs": [
    {
     "data": {
      "text/plain": [
       "421.54770640000004"
      ]
     },
     "execution_count": 11,
     "metadata": {},
     "output_type": "execute_result"
    }
   ],
   "source": [
    "median_val"
   ]
  },
  {
   "cell_type": "code",
   "execution_count": 12,
   "id": "08d3d1a8",
   "metadata": {},
   "outputs": [
    {
     "data": {
      "text/plain": [
       "0       421.547706\n",
       "1       421.547706\n",
       "2         0.000000\n",
       "3       421.547706\n",
       "4         0.000000\n",
       "           ...    \n",
       "2049    421.547706\n",
       "2050    421.547706\n",
       "2051    421.547706\n",
       "2052      1.000000\n",
       "2053    421.547706\n",
       "Name: Random, Length: 2054, dtype: float64"
      ]
     },
     "execution_count": 12,
     "metadata": {},
     "output_type": "execute_result"
    }
   ],
   "source": [
    "df['Random'].fillna(median_val)"
   ]
  },
  {
   "cell_type": "code",
   "execution_count": 13,
   "id": "0cd6ed80",
   "metadata": {},
   "outputs": [
    {
     "data": {
      "text/plain": [
       "SRCID                0\n",
       "Q1                   0\n",
       "Q1_Ordinal           0\n",
       "Q2                   0\n",
       "DUM1                 0\n",
       "DUM2                 0\n",
       "Q5Average            0\n",
       "Q6                   0\n",
       "Q7Average            0\n",
       "Q8                   0\n",
       "Q9Average            0\n",
       "Q10                  0\n",
       "Q11Average           0\n",
       "Q12                  0\n",
       "Q12_Ordinal          0\n",
       "Q18                  0\n",
       "Q20                  0\n",
       "Q22                  0\n",
       "Q22_Ordinal          0\n",
       "Q24                  0\n",
       "p_gender_sdc         0\n",
       "p_age_group_sdc      0\n",
       "p_education_sdc      0\n",
       "p_state_sdc          0\n",
       "Random             462\n",
       "dtype: int64"
      ]
     },
     "execution_count": 13,
     "metadata": {},
     "output_type": "execute_result"
    }
   ],
   "source": [
    "len(df) - df.count() # it does not cover the orginal data"
   ]
  },
  {
   "cell_type": "code",
   "execution_count": 14,
   "id": "92e635cf",
   "metadata": {},
   "outputs": [],
   "source": [
    "median_rand = df['Random'].fillna(median_val)"
   ]
  },
  {
   "cell_type": "code",
   "execution_count": 15,
   "id": "7bbce194",
   "metadata": {},
   "outputs": [],
   "source": [
    "df['Random'] = median_rand"
   ]
  },
  {
   "cell_type": "code",
   "execution_count": 16,
   "id": "ce01a178",
   "metadata": {},
   "outputs": [
    {
     "data": {
      "text/plain": [
       "SRCID              0\n",
       "Q1                 0\n",
       "Q1_Ordinal         0\n",
       "Q2                 0\n",
       "DUM1               0\n",
       "DUM2               0\n",
       "Q5Average          0\n",
       "Q6                 0\n",
       "Q7Average          0\n",
       "Q8                 0\n",
       "Q9Average          0\n",
       "Q10                0\n",
       "Q11Average         0\n",
       "Q12                0\n",
       "Q12_Ordinal        0\n",
       "Q18                0\n",
       "Q20                0\n",
       "Q22                0\n",
       "Q22_Ordinal        0\n",
       "Q24                0\n",
       "p_gender_sdc       0\n",
       "p_age_group_sdc    0\n",
       "p_education_sdc    0\n",
       "p_state_sdc        0\n",
       "Random             0\n",
       "dtype: int64"
      ]
     },
     "execution_count": 16,
     "metadata": {},
     "output_type": "execute_result"
    }
   ],
   "source": [
    "len(df) - df.count()"
   ]
  }
 ],
 "metadata": {
  "kernelspec": {
   "display_name": "Python 3 (ipykernel)",
   "language": "python",
   "name": "python3"
  },
  "language_info": {
   "codemirror_mode": {
    "name": "ipython",
    "version": 3
   },
   "file_extension": ".py",
   "mimetype": "text/x-python",
   "name": "python",
   "nbconvert_exporter": "python",
   "pygments_lexer": "ipython3",
   "version": "3.9.12"
  }
 },
 "nbformat": 4,
 "nbformat_minor": 5
}

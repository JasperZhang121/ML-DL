{
 "cells": [
  {
   "cell_type": "code",
   "execution_count": 12,
   "id": "70fb2089",
   "metadata": {},
   "outputs": [],
   "source": [
    "import geocoder"
   ]
  },
  {
   "cell_type": "markdown",
   "id": "92acb211",
   "metadata": {},
   "source": [
    "API key is necessary according to Google"
   ]
  },
  {
   "cell_type": "code",
   "execution_count": 21,
   "id": "6707c62c",
   "metadata": {},
   "outputs": [
    {
     "data": {
      "text/plain": [
       "<[REQUEST_DENIED] Google - Geocode [empty]>"
      ]
     },
     "execution_count": 21,
     "metadata": {},
     "output_type": "execute_result"
    }
   ],
   "source": [
    "geocoder.google('Eiffel Tower, Paris')"
   ]
  },
  {
   "cell_type": "markdown",
   "id": "c4d79962",
   "metadata": {},
   "source": [
    "Using the OpenStreetMap API instead"
   ]
  },
  {
   "cell_type": "code",
   "execution_count": 22,
   "id": "2c19b646",
   "metadata": {},
   "outputs": [],
   "source": [
    "g = geocoder.osm('Eiffel Tower, Paris')"
   ]
  },
  {
   "cell_type": "code",
   "execution_count": 23,
   "id": "c2cadac7",
   "metadata": {},
   "outputs": [
    {
     "data": {
      "text/plain": [
       "[48.858260200000004, 2.2944990543196795]"
      ]
     },
     "execution_count": 23,
     "metadata": {},
     "output_type": "execute_result"
    }
   ],
   "source": [
    "g.latlng"
   ]
  },
  {
   "cell_type": "code",
   "execution_count": 24,
   "id": "0dbbe479",
   "metadata": {},
   "outputs": [
    {
     "data": {
      "text/plain": [
       "'Eiffel Tower, Paris'"
      ]
     },
     "execution_count": 24,
     "metadata": {},
     "output_type": "execute_result"
    }
   ],
   "source": [
    "g.location"
   ]
  },
  {
   "cell_type": "code",
   "execution_count": 25,
   "id": "d4a5bb5c",
   "metadata": {},
   "outputs": [
    {
     "data": {
      "text/plain": [
       "'Paris'"
      ]
     },
     "execution_count": 25,
     "metadata": {},
     "output_type": "execute_result"
    }
   ],
   "source": [
    "g.city"
   ]
  },
  {
   "cell_type": "code",
   "execution_count": 26,
   "id": "7d5af0dd",
   "metadata": {},
   "outputs": [
    {
     "data": {
      "text/plain": [
       "'France'"
      ]
     },
     "execution_count": 26,
     "metadata": {},
     "output_type": "execute_result"
    }
   ],
   "source": [
    "g.country"
   ]
  },
  {
   "cell_type": "code",
   "execution_count": 27,
   "id": "f3f4df15",
   "metadata": {},
   "outputs": [
    {
     "data": {
      "text/plain": [
       "'Avenue Anatole France'"
      ]
     },
     "execution_count": 27,
     "metadata": {},
     "output_type": "execute_result"
    }
   ],
   "source": [
    "g.street"
   ]
  },
  {
   "cell_type": "code",
   "execution_count": 28,
   "id": "8a0ae0c5",
   "metadata": {},
   "outputs": [
    {
     "data": {
      "text/plain": [
       "'https://nominatim.openstreetmap.org/search?q=Eiffel+Tower%2C+Paris&format=jsonv2&addressdetails=1&limit=1'"
      ]
     },
     "execution_count": 28,
     "metadata": {},
     "output_type": "execute_result"
    }
   ],
   "source": [
    "g.url"
   ]
  },
  {
   "cell_type": "code",
   "execution_count": 29,
   "id": "7bf5a79b",
   "metadata": {},
   "outputs": [],
   "source": [
    "g1 = geocoder.osm([-36.866, 174.753], method = 'reverse')"
   ]
  },
  {
   "cell_type": "code",
   "execution_count": 30,
   "id": "b299c21e",
   "metadata": {},
   "outputs": [
    {
     "data": {
      "text/plain": [
       "'Albert-Eden'"
      ]
     },
     "execution_count": 30,
     "metadata": {},
     "output_type": "execute_result"
    }
   ],
   "source": [
    "g1.city"
   ]
  },
  {
   "cell_type": "code",
   "execution_count": 31,
   "id": "a4345203",
   "metadata": {},
   "outputs": [
    {
     "data": {
      "text/plain": [
       "'New Zealand/Aotearoa'"
      ]
     },
     "execution_count": 31,
     "metadata": {},
     "output_type": "execute_result"
    }
   ],
   "source": [
    "g1.country"
   ]
  },
  {
   "cell_type": "code",
   "execution_count": 32,
   "id": "c038fd8a",
   "metadata": {},
   "outputs": [
    {
     "data": {
      "text/plain": [
       "'Auckland'"
      ]
     },
     "execution_count": 32,
     "metadata": {},
     "output_type": "execute_result"
    }
   ],
   "source": [
    "g1.state"
   ]
  },
  {
   "cell_type": "code",
   "execution_count": 33,
   "id": "377d955e",
   "metadata": {},
   "outputs": [
    {
     "data": {
      "text/plain": [
       "[-36.8663404, 174.7525829]"
      ]
     },
     "execution_count": 33,
     "metadata": {},
     "output_type": "execute_result"
    }
   ],
   "source": [
    "g1.latlng"
   ]
  }
 ],
 "metadata": {
  "kernelspec": {
   "display_name": "Python 3 (ipykernel)",
   "language": "python",
   "name": "python3"
  },
  "language_info": {
   "codemirror_mode": {
    "name": "ipython",
    "version": 3
   },
   "file_extension": ".py",
   "mimetype": "text/x-python",
   "name": "python",
   "nbconvert_exporter": "python",
   "pygments_lexer": "ipython3",
   "version": "3.9.12"
  }
 },
 "nbformat": 4,
 "nbformat_minor": 5
}

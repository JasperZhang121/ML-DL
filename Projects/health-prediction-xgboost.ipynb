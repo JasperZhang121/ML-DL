{
 "cells": [
  {
   "cell_type": "code",
   "execution_count": 1,
   "metadata": {
    "execution": {
     "iopub.execute_input": "2023-09-28T01:05:47.894098Z",
     "iopub.status.busy": "2023-09-28T01:05:47.893688Z",
     "iopub.status.idle": "2023-09-28T01:05:54.099617Z",
     "shell.execute_reply": "2023-09-28T01:05:54.098577Z",
     "shell.execute_reply.started": "2023-09-28T01:05:47.894065Z"
    }
   },
   "outputs": [],
   "source": [
    "import pandas as pd\n",
    "import numpy as np\n",
    "from sklearn.model_selection import train_test_split\n",
    "from sklearn.preprocessing import StandardScaler, OneHotEncoder, LabelEncoder\n",
    "import xgboost as xgb\n",
    "from sklearn.metrics import classification_report, accuracy_score "
   ]
  },
  {
   "cell_type": "markdown",
   "metadata": {},
   "source": [
    "---\n",
    "### Preprocessing"
   ]
  },
  {
   "cell_type": "code",
   "execution_count": 2,
   "metadata": {
    "execution": {
     "iopub.execute_input": "2023-09-28T01:05:54.102691Z",
     "iopub.status.busy": "2023-09-28T01:05:54.101958Z",
     "iopub.status.idle": "2023-09-28T01:05:54.119015Z",
     "shell.execute_reply": "2023-09-28T01:05:54.117567Z",
     "shell.execute_reply.started": "2023-09-28T01:05:54.102650Z"
    }
   },
   "outputs": [],
   "source": [
    "def read_data():\n",
    "    train = pd.read_csv(\"../Data/health_of_hourse/train.csv\")\n",
    "    test = pd.read_csv(\"../Data/health_of_hourse/test.csv\")\n",
    "    return train, test\n",
    "\n",
    "def preprocessing_train_data(train):\n",
    "    # Convert categorical to binary/Trinary\n",
    "    train['surgery'] = train['surgery'].map({'yes':1, 'no':0})\n",
    "    train['age'] = train['age'].map({'adult':1, 'young':0})\n",
    "    train['surgical_lesion'] = train['surgical_lesion'].map({\"yes\":1, \"no\":0})\n",
    "    train['capillary_refill_time'] = train['capillary_refill_time'].map({'less_3_sec': 0, 'more_3_sec': 1, '3':2})\n",
    "    \n",
    "    # Fill NA with mode\n",
    "    train = train.apply(lambda x: x.fillna(x.mode().iloc[0] if not x.mode().empty else x.median()))\n",
    "    \n",
    "    # Ordinal mappings\n",
    "    ordinal_mappings = {\n",
    "        'pain': {'depressed':1 ,'mild_pain':2, 'extreme_pain':3, 'alert':4, 'severe_pain':5, 'slight':6},\n",
    "        'abdominal_distention': {'slight':1, 'moderate':2, 'none':3, 'severe':4},\n",
    "    }\n",
    "\n",
    "    for col, mapping in ordinal_mappings.items():\n",
    "        train[col] = train[col].map(mapping)\n",
    "\n",
    "    # One-Hot Encoding\n",
    "    cols_to_encode = ['peristalsis', 'nasogastric_reflux', 'rectal_exam_feces', 'abdomen', 'abdomo_appearance', 'cp_data', 'temp_of_extremities', 'peripheral_pulse', 'mucous_membrane', 'nasogastric_tube']\n",
    "    ohe = OneHotEncoder(drop='first', sparse=False)\n",
    "    encoded_data = ohe.fit_transform(train[cols_to_encode])\n",
    "    df_encoded = pd.DataFrame(encoded_data, columns=ohe.get_feature_names_out(cols_to_encode))\n",
    "    \n",
    "    train = pd.concat([train, df_encoded], axis=1)\n",
    "    train.drop(cols_to_encode, axis=1, inplace=True)\n",
    "\n",
    "    # Numerical\n",
    "    scaler = StandardScaler()\n",
    "    numerical_cols = ['rectal_temp', 'pulse', 'respiratory_rate']\n",
    "    train[numerical_cols] = scaler.fit_transform(train[numerical_cols])\n",
    "\n",
    "    # Target\n",
    "    label_enc = LabelEncoder()\n",
    "    train['outcome'] = label_enc.fit_transform(train['outcome'])\n",
    "\n",
    "    # Drop\n",
    "    train.drop(['id', 'hospital_number'], axis=1, inplace=True)\n",
    "\n",
    "    return train, ohe, scaler, label_enc\n"
   ]
  },
  {
   "cell_type": "code",
   "execution_count": 3,
   "metadata": {
    "execution": {
     "iopub.execute_input": "2023-09-28T01:05:54.121269Z",
     "iopub.status.busy": "2023-09-28T01:05:54.120709Z",
     "iopub.status.idle": "2023-09-28T01:05:54.137763Z",
     "shell.execute_reply": "2023-09-28T01:05:54.136452Z",
     "shell.execute_reply.started": "2023-09-28T01:05:54.121222Z"
    }
   },
   "outputs": [],
   "source": [
    "def preprocessing_test_data(test,ohe, scaler, label_enc):\n",
    "    # convert categorical to binary/Trinary\n",
    "    test['surgery'] = test['surgery'].map({'yes':1,'no':0})\n",
    "    test['age'] = test['age'].map({'adult':1, 'young':0})\n",
    "    test['surgical_lesion'] = test['surgical_lesion'].map({\"yes\":1, \"no\":0})\n",
    "    test['capillary_refill_time'] = test['capillary_refill_time'].map({'less_3_sec': 0, 'more_3_sec': 1, '3':2})\n",
    "\n",
    "    # fill NA with mode\n",
    "    test = test.apply(lambda x: x.fillna(x.mode().iloc[0] if not x.mode().empty else x.median()))\n",
    "    \n",
    "    # ordinal mappings\n",
    "    ordinal_mappings = {\n",
    "        'pain': {'depressed':1, 'mild_pain':2, 'extreme_pain':3, 'alert':4, 'severe_pain':5, 'slight':6},\n",
    "        'abdominal_distention': {'slight':1, 'moderate':2, 'none':3, 'severe':4}\n",
    "    }\n",
    "\n",
    "    for col, mapping in ordinal_mappings.items():\n",
    "        test[col] = test[col].map(mapping)\n",
    "    \n",
    "    \n",
    "    # One-Hot Encoding\n",
    "    cols_to_encode = ['peristalsis', 'nasogastric_reflux', 'rectal_exam_feces', 'abdomen', 'abdomo_appearance', 'cp_data', 'temp_of_extremities', 'peripheral_pulse', 'mucous_membrane', 'nasogastric_tube']\n",
    "    encoded_data = ohe.transform(test[cols_to_encode])\n",
    "    df_encoded = pd.DataFrame(encoded_data, columns=ohe.get_feature_names_out(cols_to_encode))\n",
    "    \n",
    "    test = pd.concat([test, df_encoded], axis=1)\n",
    "    test.drop(cols_to_encode, axis=1, inplace=True)\n",
    "    \n",
    "    # numerical\n",
    "    scaler = StandardScaler()\n",
    "    numerical_cols = ['rectal_temp', 'pulse', 'respiratory_rate']\n",
    "    test[numerical_cols] = scaler.fit_transform(test[numerical_cols])\n",
    "    \n",
    "    # object\n",
    "    object_cols = test.select_dtypes(include='object').columns\n",
    "    test[object_cols] = test[object_cols].astype('category')\n",
    "    \n",
    "    return test"
   ]
  },
  {
   "cell_type": "markdown",
   "metadata": {},
   "source": [
    "---\n",
    "### Read in"
   ]
  },
  {
   "cell_type": "code",
   "execution_count": 4,
   "metadata": {
    "execution": {
     "iopub.execute_input": "2023-09-28T01:05:54.140579Z",
     "iopub.status.busy": "2023-09-28T01:05:54.140203Z",
     "iopub.status.idle": "2023-09-28T01:05:54.204625Z",
     "shell.execute_reply": "2023-09-28T01:05:54.203408Z",
     "shell.execute_reply.started": "2023-09-28T01:05:54.140546Z"
    }
   },
   "outputs": [],
   "source": [
    "train, test = read_data()"
   ]
  },
  {
   "cell_type": "markdown",
   "metadata": {},
   "source": [
    "---\n",
    "### XGBoosting"
   ]
  },
  {
   "cell_type": "code",
   "execution_count": 5,
   "metadata": {
    "execution": {
     "iopub.execute_input": "2023-09-28T01:05:54.209908Z",
     "iopub.status.busy": "2023-09-28T01:05:54.209537Z",
     "iopub.status.idle": "2023-09-28T01:05:55.002673Z",
     "shell.execute_reply": "2023-09-28T01:05:55.001313Z",
     "shell.execute_reply.started": "2023-09-28T01:05:54.209877Z"
    }
   },
   "outputs": [
    {
     "name": "stderr",
     "output_type": "stream",
     "text": [
      "C:\\Users\\jaspe\\AppData\\Local\\Programs\\Python\\Python39\\lib\\site-packages\\scikit_learn-1.3.0-py3.9-win-amd64.egg\\sklearn\\preprocessing\\_encoders.py:972: FutureWarning: `sparse` was renamed to `sparse_output` in version 1.2 and will be removed in 1.4. `sparse_output` is ignored unless you leave `sparse` to its default value.\n",
      "  warnings.warn(\n"
     ]
    },
    {
     "name": "stdout",
     "output_type": "stream",
     "text": [
      "              precision    recall  f1-score   support\n",
      "\n",
      "           0       0.60      0.60      0.60        72\n",
      "           1       0.71      0.63      0.67        54\n",
      "           2       0.75      0.79      0.77       121\n",
      "\n",
      "    accuracy                           0.70       247\n",
      "   macro avg       0.68      0.67      0.68       247\n",
      "weighted avg       0.70      0.70      0.70       247\n",
      "\n",
      "Accuracy: 0.6963562753036437\n"
     ]
    }
   ],
   "source": [
    "train, ohe, scaler, label_enc = preprocessing_train_data(train)\n",
    "\n",
    "X = train.drop('outcome', axis=1)\n",
    "y = train['outcome']\n",
    "\n",
    "X_train, X_val, y_train, y_val = train_test_split(X, y, test_size=0.2, random_state=42)\n",
    "model = xgb.XGBClassifier(objective='multi:softmax', num_class=3)  # Assuming 3 classes for 'outcome'\n",
    "model.fit(X_train, y_train)\n",
    "# Predictions\n",
    "y_pred = model.predict(X_val)\n",
    "\n",
    "# Check performance\n",
    "print(classification_report(y_val, y_pred))\n",
    "print(\"Accuracy:\", accuracy_score(y_val, y_pred))"
   ]
  },
  {
   "cell_type": "markdown",
   "metadata": {},
   "source": [
    "---\n",
    "### Apply Test & Final"
   ]
  },
  {
   "cell_type": "code",
   "execution_count": 6,
   "metadata": {
    "execution": {
     "iopub.execute_input": "2023-09-28T01:05:55.004399Z",
     "iopub.status.busy": "2023-09-28T01:05:55.004016Z",
     "iopub.status.idle": "2023-09-28T01:05:55.070565Z",
     "shell.execute_reply": "2023-09-28T01:05:55.069509Z",
     "shell.execute_reply.started": "2023-09-28T01:05:55.004365Z"
    }
   },
   "outputs": [],
   "source": [
    "test = preprocessing_test_data(test, ohe, scaler, label_enc)\n",
    "\n",
    "cols_to_drop = ['hospital_number', 'id']\n",
    "\n",
    "test_data = test.drop(columns=cols_to_drop)\n",
    "\n",
    "test_predictions = model.predict(test_data)\n",
    "\n",
    "original_labels = label_enc.inverse_transform(test_predictions)\n",
    "\n",
    "# Create a submission file if needed\n",
    "submission = pd.DataFrame({'id': test['id'], 'outcome': original_labels})\n",
    "submission.to_csv('../Submissions/submission_Predict Health Outcomes of Horses.csv', index=False)"
   ]
  }
 ],
 "metadata": {
  "kernelspec": {
   "display_name": "pytorch",
   "language": "python",
   "name": "pytorch"
  },
  "language_info": {
   "codemirror_mode": {
    "name": "ipython",
    "version": 3
   },
   "file_extension": ".py",
   "mimetype": "text/x-python",
   "name": "python",
   "nbconvert_exporter": "python",
   "pygments_lexer": "ipython3",
   "version": "3.9.13"
  }
 },
 "nbformat": 4,
 "nbformat_minor": 4
}

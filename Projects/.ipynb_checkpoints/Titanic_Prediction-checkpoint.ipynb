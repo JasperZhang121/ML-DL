{
 "cells": [
  {
   "cell_type": "markdown",
   "id": "c3793af2",
   "metadata": {},
   "source": [
    "https://www.kaggle.com/competitions/titanic\n",
    "- use a simple logistic regression"
   ]
  },
  {
   "cell_type": "code",
   "execution_count": 1,
   "id": "38265df0",
   "metadata": {},
   "outputs": [],
   "source": [
    "import pandas as pd\n",
    "import numpy as np\n",
    "from sklearn.model_selection import train_test_split\n",
    "from sklearn.preprocessing import StandardScaler\n",
    "from sklearn.linear_model import LogisticRegression\n",
    "from sklearn.metrics import accuracy_score, classification_report"
   ]
  },
  {
   "cell_type": "markdown",
   "id": "bef25a0a",
   "metadata": {},
   "source": [
    "### Import all data sets"
   ]
  },
  {
   "cell_type": "code",
   "execution_count": 2,
   "id": "7f2bb0e5",
   "metadata": {},
   "outputs": [],
   "source": [
    "df = pd.read_csv(\"../Data/titanic/train.csv\")\n",
    "test_data = pd.read_csv(\"../Data/titanic/test.csv\")"
   ]
  },
  {
   "cell_type": "markdown",
   "id": "ba4394bb",
   "metadata": {},
   "source": [
    "### Data Cleaning"
   ]
  },
  {
   "cell_type": "code",
   "execution_count": 3,
   "id": "eea56001",
   "metadata": {},
   "outputs": [],
   "source": [
    "# Fill missing values in Age with median\n",
    "df['Age'].fillna(df['Age'].median(), inplace=True)\n",
    "\n",
    "# Convert Sex into a binary feature: 0 for female and 1 for male\n",
    "df['Sex'] = df['Sex'].map({'female': 0, 'male': 1})\n",
    "\n",
    "# Drop columns that require more advanced preprocessing\n",
    "df.drop(columns=['Name', 'Ticket', 'Cabin', 'Embarked', 'PassengerId'], inplace=True)\n",
    "\n",
    "# Drop rows with any remaining missing values (like Embarked)\n",
    "df.dropna(inplace=True)"
   ]
  },
  {
   "cell_type": "markdown",
   "id": "4eed5916",
   "metadata": {},
   "source": [
    "### Data Preparation"
   ]
  },
  {
   "cell_type": "code",
   "execution_count": 4,
   "id": "4a58651e",
   "metadata": {},
   "outputs": [],
   "source": [
    "X = df.drop('Survived', axis=1)\n",
    "y = df['Survived']\n",
    "\n",
    "X_train, X_test, y_train, y_test = train_test_split(X, y, test_size=0.2, random_state=42)\n",
    "\n",
    "# Scaling the features\n",
    "scaler = StandardScaler()\n",
    "X_train = scaler.fit_transform(X_train)\n",
    "X_test = scaler.transform(X_test)"
   ]
  },
  {
   "cell_type": "markdown",
   "id": "004de1fd",
   "metadata": {},
   "source": [
    "### Train model"
   ]
  },
  {
   "cell_type": "code",
   "execution_count": 5,
   "id": "3189e5a0",
   "metadata": {},
   "outputs": [
    {
     "data": {
      "text/plain": [
       "LogisticRegression()"
      ]
     },
     "execution_count": 5,
     "metadata": {},
     "output_type": "execute_result"
    }
   ],
   "source": [
    "clf = LogisticRegression()\n",
    "clf.fit(X_train, y_train)"
   ]
  },
  {
   "cell_type": "code",
   "execution_count": 6,
   "id": "b33a846f",
   "metadata": {},
   "outputs": [
    {
     "name": "stdout",
     "output_type": "stream",
     "text": [
      "Accuracy: 0.7988826815642458\n",
      "              precision    recall  f1-score   support\n",
      "\n",
      "           0       0.81      0.86      0.83       105\n",
      "           1       0.78      0.72      0.75        74\n",
      "\n",
      "    accuracy                           0.80       179\n",
      "   macro avg       0.80      0.79      0.79       179\n",
      "weighted avg       0.80      0.80      0.80       179\n",
      "\n"
     ]
    }
   ],
   "source": [
    "y_pred = clf.predict(X_test)\n",
    "\n",
    "print(\"Accuracy:\", accuracy_score(y_test, y_pred))\n",
    "print(classification_report(y_test, y_pred))"
   ]
  },
  {
   "cell_type": "markdown",
   "id": "4d2dfffa",
   "metadata": {},
   "source": [
    "### Test data"
   ]
  },
  {
   "cell_type": "code",
   "execution_count": 7,
   "id": "3c00c6cf",
   "metadata": {
    "scrolled": true
   },
   "outputs": [
    {
     "name": "stdout",
     "output_type": "stream",
     "text": [
      "PassengerId      0\n",
      "Pclass           0\n",
      "Name             0\n",
      "Sex              0\n",
      "Age             86\n",
      "SibSp            0\n",
      "Parch            0\n",
      "Ticket           0\n",
      "Fare             1\n",
      "Cabin          327\n",
      "Embarked         0\n",
      "dtype: int64\n"
     ]
    }
   ],
   "source": [
    "# Check for missing values in test_data\n",
    "print(test_data.isnull().sum())"
   ]
  },
  {
   "cell_type": "code",
   "execution_count": 8,
   "id": "896506b7",
   "metadata": {},
   "outputs": [],
   "source": [
    "# Fill missing values\n",
    "test_data['Fare'].fillna(test_data['Fare'].median(), inplace=True)"
   ]
  },
  {
   "cell_type": "code",
   "execution_count": 9,
   "id": "e88e6d1f",
   "metadata": {},
   "outputs": [],
   "source": [
    "# preprocessing\n",
    "test_data['Age'].fillna(test_data['Age'].median(), inplace=True)\n",
    "test_data['Sex'] = test_data['Sex'].map({'female': 0, 'male': 1})\n",
    "test_data.drop(columns=['Name', 'Ticket', 'Cabin', 'Embarked'], inplace=True)\n",
    "\n",
    "# Scale the test data using the same scaler object that was used for training data\n",
    "test_data_scaled = scaler.transform(test_data.drop('PassengerId', axis=1))"
   ]
  },
  {
   "cell_type": "markdown",
   "id": "4f8ac417",
   "metadata": {},
   "source": [
    "### Predictions "
   ]
  },
  {
   "cell_type": "code",
   "execution_count": 10,
   "id": "aa5d7763",
   "metadata": {
    "scrolled": false
   },
   "outputs": [],
   "source": [
    "predictions = clf.predict(test_data_scaled)"
   ]
  },
  {
   "cell_type": "markdown",
   "id": "027d5b7e",
   "metadata": {},
   "source": [
    "### Submission"
   ]
  },
  {
   "cell_type": "code",
   "execution_count": 11,
   "id": "7f9121ac",
   "metadata": {},
   "outputs": [],
   "source": [
    "submission = pd.DataFrame({\n",
    "    'PassengerId': test_data['PassengerId'],\n",
    "    'Survived': predictions\n",
    "})\n",
    "\n",
    "# Save the dataframe to a CSV file\n",
    "submission.to_csv('../Submissions/submission_titanic.csv', index=False)"
   ]
  }
 ],
 "metadata": {
  "kernelspec": {
   "display_name": "Python 3 (ipykernel)",
   "language": "python",
   "name": "python3"
  },
  "language_info": {
   "codemirror_mode": {
    "name": "ipython",
    "version": 3
   },
   "file_extension": ".py",
   "mimetype": "text/x-python",
   "name": "python",
   "nbconvert_exporter": "python",
   "pygments_lexer": "ipython3",
   "version": "3.9.12"
  }
 },
 "nbformat": 4,
 "nbformat_minor": 5
}
